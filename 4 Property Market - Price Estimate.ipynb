{
 "cells": [
  {
   "cell_type": "markdown",
   "id": "edf642fb",
   "metadata": {},
   "source": [
    "# Price Estimate\n",
    "## Property Market"
   ]
  },
  {
   "cell_type": "code",
   "execution_count": 1,
   "id": "74d723cf",
   "metadata": {
    "ExecuteTime": {
     "end_time": "2023-04-23T21:11:02.665208Z",
     "start_time": "2023-04-23T21:11:02.638216Z"
    }
   },
   "outputs": [
    {
     "data": {
      "text/html": [
       "<style>.container { width:90% !important; }</style>"
      ],
      "text/plain": [
       "<IPython.core.display.HTML object>"
      ]
     },
     "metadata": {},
     "output_type": "display_data"
    }
   ],
   "source": [
    "# Adjust Notebook Display\n",
    "from IPython.display import display, HTML\n",
    "display(HTML(\"<style>.container { width:90% !important; }</style>\"))"
   ]
  },
  {
   "cell_type": "code",
   "execution_count": 2,
   "id": "e12f3ca3",
   "metadata": {
    "ExecuteTime": {
     "end_time": "2023-04-23T21:11:03.804595Z",
     "start_time": "2023-04-23T21:11:02.668154Z"
    }
   },
   "outputs": [
    {
     "name": "stderr",
     "output_type": "stream",
     "text": [
      "C:\\Users\\sarah\\anaconda3\\lib\\site-packages\\statsmodels\\compat\\pandas.py:61: FutureWarning: pandas.Int64Index is deprecated and will be removed from pandas in a future version. Use pandas.Index with the appropriate dtype instead.\n",
      "  from pandas import Int64Index as NumericIndex\n"
     ]
    }
   ],
   "source": [
    "# Required Packages\n",
    "import pandas as pd\n",
    "import numpy as np\n",
    "import statsmodels.api as sm\n",
    "import math"
   ]
  },
  {
   "cell_type": "code",
   "execution_count": 3,
   "id": "2f7309a9",
   "metadata": {
    "ExecuteTime": {
     "end_time": "2023-04-23T21:11:03.899415Z",
     "start_time": "2023-04-23T21:11:03.804595Z"
    }
   },
   "outputs": [
    {
     "name": "stdout",
     "output_type": "stream",
     "text": [
      "DataFrame Size :  (5385, 21)\n"
     ]
    },
    {
     "data": {
      "text/html": [
       "<div>\n",
       "<style scoped>\n",
       "    .dataframe tbody tr th:only-of-type {\n",
       "        vertical-align: middle;\n",
       "    }\n",
       "\n",
       "    .dataframe tbody tr th {\n",
       "        vertical-align: top;\n",
       "    }\n",
       "\n",
       "    .dataframe thead th {\n",
       "        text-align: right;\n",
       "    }\n",
       "</style>\n",
       "<table border=\"1\" class=\"dataframe\">\n",
       "  <thead>\n",
       "    <tr style=\"text-align: right;\">\n",
       "      <th></th>\n",
       "      <th>Links</th>\n",
       "      <th>Locality</th>\n",
       "      <th>Price</th>\n",
       "      <th>Beds</th>\n",
       "      <th>Property Type</th>\n",
       "      <th>Baths</th>\n",
       "      <th>Description</th>\n",
       "      <th>Garden</th>\n",
       "      <th>Yard</th>\n",
       "      <th>Terrace</th>\n",
       "      <th>...</th>\n",
       "      <th>Pool</th>\n",
       "      <th>Roof Access</th>\n",
       "      <th>Seafront</th>\n",
       "      <th>Views</th>\n",
       "      <th>Garage</th>\n",
       "      <th>Optional Garage</th>\n",
       "      <th>Airspace</th>\n",
       "      <th>Optional Airspace</th>\n",
       "      <th>Furnished</th>\n",
       "      <th>Finished</th>\n",
       "    </tr>\n",
       "  </thead>\n",
       "  <tbody>\n",
       "    <tr>\n",
       "      <th>0</th>\n",
       "      <td>https://www.propertymarket.com.mt/view/2-bedro...</td>\n",
       "      <td>Attard</td>\n",
       "      <td>349000</td>\n",
       "      <td>2</td>\n",
       "      <td>Town House</td>\n",
       "      <td>2</td>\n",
       "      <td>BIRKIRKARA – Located in a UCA area, yet in a q...</td>\n",
       "      <td>0</td>\n",
       "      <td>0</td>\n",
       "      <td>1</td>\n",
       "      <td>...</td>\n",
       "      <td>0</td>\n",
       "      <td>1</td>\n",
       "      <td>0</td>\n",
       "      <td>0</td>\n",
       "      <td>0</td>\n",
       "      <td>0</td>\n",
       "      <td>1</td>\n",
       "      <td>0</td>\n",
       "      <td>1</td>\n",
       "      <td>0</td>\n",
       "    </tr>\n",
       "    <tr>\n",
       "      <th>1</th>\n",
       "      <td>https://www.propertymarket.com.mt/view/2-bedro...</td>\n",
       "      <td>Marsascala</td>\n",
       "      <td>300000</td>\n",
       "      <td>2</td>\n",
       "      <td>Apartment</td>\n",
       "      <td>2</td>\n",
       "      <td>A 2 Bedroom second floor Apartment, with permi...</td>\n",
       "      <td>0</td>\n",
       "      <td>0</td>\n",
       "      <td>0</td>\n",
       "      <td>...</td>\n",
       "      <td>0</td>\n",
       "      <td>0</td>\n",
       "      <td>0</td>\n",
       "      <td>0</td>\n",
       "      <td>0</td>\n",
       "      <td>0</td>\n",
       "      <td>0</td>\n",
       "      <td>0</td>\n",
       "      <td>0</td>\n",
       "      <td>0</td>\n",
       "    </tr>\n",
       "    <tr>\n",
       "      <th>2</th>\n",
       "      <td>https://www.propertymarket.com.mt/view/2-bedro...</td>\n",
       "      <td>San Gwann</td>\n",
       "      <td>330000</td>\n",
       "      <td>2</td>\n",
       "      <td>Maisonette</td>\n",
       "      <td>2</td>\n",
       "      <td>Situated on the outskirts of San Gwann and few...</td>\n",
       "      <td>0</td>\n",
       "      <td>1</td>\n",
       "      <td>0</td>\n",
       "      <td>...</td>\n",
       "      <td>0</td>\n",
       "      <td>0</td>\n",
       "      <td>0</td>\n",
       "      <td>0</td>\n",
       "      <td>0</td>\n",
       "      <td>0</td>\n",
       "      <td>0</td>\n",
       "      <td>0</td>\n",
       "      <td>0</td>\n",
       "      <td>0</td>\n",
       "    </tr>\n",
       "    <tr>\n",
       "      <th>3</th>\n",
       "      <td>https://www.propertymarket.com.mt/view/3-bedro...</td>\n",
       "      <td>Balzan</td>\n",
       "      <td>425000</td>\n",
       "      <td>3</td>\n",
       "      <td>Apartment</td>\n",
       "      <td>2</td>\n",
       "      <td>A very well located modern three bedroom 180 S...</td>\n",
       "      <td>0</td>\n",
       "      <td>0</td>\n",
       "      <td>0</td>\n",
       "      <td>...</td>\n",
       "      <td>0</td>\n",
       "      <td>0</td>\n",
       "      <td>0</td>\n",
       "      <td>0</td>\n",
       "      <td>0</td>\n",
       "      <td>0</td>\n",
       "      <td>0</td>\n",
       "      <td>0</td>\n",
       "      <td>0</td>\n",
       "      <td>1</td>\n",
       "    </tr>\n",
       "    <tr>\n",
       "      <th>4</th>\n",
       "      <td>https://www.propertymarket.com.mt/view/2-bedro...</td>\n",
       "      <td>Zebbug</td>\n",
       "      <td>370000</td>\n",
       "      <td>2</td>\n",
       "      <td>Town House</td>\n",
       "      <td>2</td>\n",
       "      <td>A two bedroom townhouse just minutes walk away...</td>\n",
       "      <td>0</td>\n",
       "      <td>1</td>\n",
       "      <td>0</td>\n",
       "      <td>...</td>\n",
       "      <td>0</td>\n",
       "      <td>1</td>\n",
       "      <td>0</td>\n",
       "      <td>0</td>\n",
       "      <td>0</td>\n",
       "      <td>0</td>\n",
       "      <td>1</td>\n",
       "      <td>0</td>\n",
       "      <td>0</td>\n",
       "      <td>0</td>\n",
       "    </tr>\n",
       "  </tbody>\n",
       "</table>\n",
       "<p>5 rows × 21 columns</p>\n",
       "</div>"
      ],
      "text/plain": [
       "                                               Links    Locality   Price  \\\n",
       "0  https://www.propertymarket.com.mt/view/2-bedro...      Attard  349000   \n",
       "1  https://www.propertymarket.com.mt/view/2-bedro...  Marsascala  300000   \n",
       "2  https://www.propertymarket.com.mt/view/2-bedro...   San Gwann  330000   \n",
       "3  https://www.propertymarket.com.mt/view/3-bedro...      Balzan  425000   \n",
       "4  https://www.propertymarket.com.mt/view/2-bedro...      Zebbug  370000   \n",
       "\n",
       "   Beds Property Type  Baths  \\\n",
       "0     2    Town House      2   \n",
       "1     2     Apartment      2   \n",
       "2     2    Maisonette      2   \n",
       "3     3     Apartment      2   \n",
       "4     2    Town House      2   \n",
       "\n",
       "                                         Description  Garden  Yard  Terrace  \\\n",
       "0  BIRKIRKARA – Located in a UCA area, yet in a q...       0     0        1   \n",
       "1  A 2 Bedroom second floor Apartment, with permi...       0     0        0   \n",
       "2  Situated on the outskirts of San Gwann and few...       0     1        0   \n",
       "3  A very well located modern three bedroom 180 S...       0     0        0   \n",
       "4  A two bedroom townhouse just minutes walk away...       0     1        0   \n",
       "\n",
       "   ...  Pool  Roof Access  Seafront  Views  Garage  Optional Garage  Airspace  \\\n",
       "0  ...     0            1         0      0       0                0         1   \n",
       "1  ...     0            0         0      0       0                0         0   \n",
       "2  ...     0            0         0      0       0                0         0   \n",
       "3  ...     0            0         0      0       0                0         0   \n",
       "4  ...     0            1         0      0       0                0         1   \n",
       "\n",
       "   Optional Airspace  Furnished  Finished  \n",
       "0                  0          1         0  \n",
       "1                  0          0         0  \n",
       "2                  0          0         0  \n",
       "3                  0          0         1  \n",
       "4                  0          0         0  \n",
       "\n",
       "[5 rows x 21 columns]"
      ]
     },
     "execution_count": 3,
     "metadata": {},
     "output_type": "execute_result"
    }
   ],
   "source": [
    "# Load DataFrame\n",
    "prop_market = pd.read_csv('prop_market.csv')\n",
    "print('DataFrame Size : ', prop_market.shape)\n",
    "prop_market.head()"
   ]
  },
  {
   "cell_type": "code",
   "execution_count": 4,
   "id": "a036f50d",
   "metadata": {
    "ExecuteTime": {
     "end_time": "2023-04-23T21:11:03.917030Z",
     "start_time": "2023-04-23T21:11:03.902415Z"
    }
   },
   "outputs": [
    {
     "name": "stdout",
     "output_type": "stream",
     "text": [
      "DataFrame Size :  (5385, 21)\n"
     ]
    }
   ],
   "source": [
    "# Double Check Duplicates\n",
    "prop_market = prop_market.drop_duplicates(subset=['Links'])\n",
    "print('DataFrame Size : ', prop_market.shape) # Confirmed, no duplicates"
   ]
  },
  {
   "cell_type": "markdown",
   "id": "5a710845",
   "metadata": {},
   "source": [
    "#### Roof Access Adjustment"
   ]
  },
  {
   "cell_type": "code",
   "execution_count": 5,
   "id": "6eeb2ce2",
   "metadata": {
    "ExecuteTime": {
     "end_time": "2023-04-23T21:11:03.933023Z",
     "start_time": "2023-04-23T21:11:03.917030Z"
    }
   },
   "outputs": [
    {
     "data": {
      "text/plain": [
       "array(['Town House', 'Apartment', 'Maisonette', 'Penthouse', 'Palazzo',\n",
       "       'House of Character', 'Terraced House', 'Bungalow', 'Villa',\n",
       "       'House', 'Semi-Detached House', 'Duplex', 'Semi-Detached Bungalow',\n",
       "       'Farm House', 'Semi-Detached Villa', 'Detached Villa',\n",
       "       'Village House', 'Site', 'Hotel', 'Detached Bungalow', 'Plot',\n",
       "       'Guest House', 'Block of Apartments'], dtype=object)"
      ]
     },
     "execution_count": 5,
     "metadata": {},
     "output_type": "execute_result"
    }
   ],
   "source": [
    "# Display Available Property Types\n",
    "prop_market['Property Type'].unique()"
   ]
  },
  {
   "cell_type": "code",
   "execution_count": 6,
   "id": "02eac6f2",
   "metadata": {
    "ExecuteTime": {
     "end_time": "2023-04-23T21:11:03.957298Z",
     "start_time": "2023-04-23T21:11:03.935984Z"
    }
   },
   "outputs": [
    {
     "data": {
      "text/plain": [
       "0    4381\n",
       "1    1004\n",
       "Name: Roof Access, dtype: int64"
      ]
     },
     "execution_count": 6,
     "metadata": {},
     "output_type": "execute_result"
    }
   ],
   "source": [
    "# OG Roof Access Variable\n",
    "prop_market['Roof Access'].value_counts()"
   ]
  },
  {
   "cell_type": "code",
   "execution_count": 7,
   "id": "99819490",
   "metadata": {
    "ExecuteTime": {
     "end_time": "2023-04-23T21:11:03.990264Z",
     "start_time": "2023-04-23T21:11:03.958107Z"
    }
   },
   "outputs": [
    {
     "data": {
      "text/plain": [
       "0    3942\n",
       "1    1443\n",
       "Name: Roof Access, dtype: int64"
      ]
     },
     "execution_count": 7,
     "metadata": {},
     "output_type": "execute_result"
    }
   ],
   "source": [
    "# Assign Roof Access Dummy to Properties with Automatic Roof Access\n",
    "with_roof = ['Town House', 'Palazzo', 'House of Character', 'Terraced House', 'Bungalow', 'Villa', 'House', 'Semi-Detached House', 'Duplex',\n",
    "             'Semi-Detached Bungalow', 'Farm House', 'Semi-Detached Villa', 'Detached Villa', 'Village House', 'Detached Bungalow', 'Guest House']\n",
    "for i in with_roof:\n",
    "    prop_market['Roof Access'] = np.where((prop_market['Property Type'] == i), 1, prop_market['Roof Access'])\n",
    "    \n",
    "prop_market['Roof Access'].value_counts()"
   ]
  },
  {
   "cell_type": "markdown",
   "id": "7dbfbe55",
   "metadata": {},
   "source": [
    "#### Beds and Baths Adjustment to Categories"
   ]
  },
  {
   "cell_type": "code",
   "execution_count": 8,
   "id": "0e09031b",
   "metadata": {
    "ExecuteTime": {
     "end_time": "2023-04-23T21:11:04.005273Z",
     "start_time": "2023-04-23T21:11:03.990264Z"
    }
   },
   "outputs": [],
   "source": [
    "# Categories for Beds\n",
    "prop_market['Beds (2)'] = np.where((prop_market['Beds'] == 2), 1, 0)\n",
    "prop_market['Beds (3)'] = np.where((prop_market['Beds'] == 3), 1, 0)\n",
    "prop_market['Beds (4+)'] = np.where((prop_market['Beds'] >= 4), 1, 0)"
   ]
  },
  {
   "cell_type": "code",
   "execution_count": 9,
   "id": "dcdc0509",
   "metadata": {
    "ExecuteTime": {
     "end_time": "2023-04-23T21:11:04.022172Z",
     "start_time": "2023-04-23T21:11:04.007153Z"
    }
   },
   "outputs": [],
   "source": [
    "# Categories for Baths\n",
    "prop_market['Baths (2)'] = np.where((prop_market['Baths'] == 2), 1, 0)\n",
    "prop_market['Baths (3)'] = np.where((prop_market['Baths'] == 3), 1, 0)\n",
    "prop_market['Baths (4+)'] = np.where((prop_market['Baths'] >= 4), 1, 0)"
   ]
  },
  {
   "cell_type": "markdown",
   "id": "1829334e",
   "metadata": {},
   "source": [
    "## Regression Exercise"
   ]
  },
  {
   "cell_type": "code",
   "execution_count": 10,
   "id": "f69700b8",
   "metadata": {
    "ExecuteTime": {
     "end_time": "2023-04-23T21:11:04.038610Z",
     "start_time": "2023-04-23T21:11:04.023592Z"
    }
   },
   "outputs": [],
   "source": [
    "# Get Dependent Variable - Log Price\n",
    "log_price = np.log(prop_market['Price'])"
   ]
  },
  {
   "cell_type": "code",
   "execution_count": 11,
   "id": "50021018",
   "metadata": {
    "ExecuteTime": {
     "end_time": "2023-04-23T21:11:04.055335Z",
     "start_time": "2023-04-23T21:11:04.041107Z"
    }
   },
   "outputs": [],
   "source": [
    "# Remove Columns that are not necessary for modelling\n",
    "X = prop_market.drop(['Links', 'Price', 'Description', 'Beds', 'Baths'], axis=1)"
   ]
  },
  {
   "cell_type": "code",
   "execution_count": 12,
   "id": "623fc62a",
   "metadata": {
    "ExecuteTime": {
     "end_time": "2023-04-23T21:11:04.073689Z",
     "start_time": "2023-04-23T21:11:04.058754Z"
    }
   },
   "outputs": [
    {
     "name": "stdout",
     "output_type": "stream",
     "text": [
      "Number of Regressors : 109\n"
     ]
    }
   ],
   "source": [
    "# Get Dummies for Categorical Variables\n",
    "X = pd.get_dummies(data=X, columns=['Property Type', 'Locality'], drop_first=True)\n",
    "print('Number of Regressors :', X.shape[1])"
   ]
  },
  {
   "cell_type": "code",
   "execution_count": 13,
   "id": "d700502c",
   "metadata": {
    "ExecuteTime": {
     "end_time": "2023-04-23T21:11:04.217965Z",
     "start_time": "2023-04-23T21:11:04.074332Z"
    },
    "scrolled": false
   },
   "outputs": [
    {
     "name": "stdout",
     "output_type": "stream",
     "text": [
      "                            OLS Regression Results                            \n",
      "==============================================================================\n",
      "Dep. Variable:                  Price   R-squared:                       0.776\n",
      "Model:                            OLS   Adj. R-squared:                  0.771\n",
      "Method:                 Least Squares   F-statistic:                     167.5\n",
      "Date:                Sun, 23 Apr 2023   Prob (F-statistic):               0.00\n",
      "Time:                        23:11:04   Log-Likelihood:                -1238.8\n",
      "No. Observations:                5385   AIC:                             2698.\n",
      "Df Residuals:                    5275   BIC:                             3423.\n",
      "Df Model:                         109                                         \n",
      "Covariance Type:            nonrobust                                         \n",
      "========================================================================================================\n",
      "                                           coef    std err          t      P>|t|      [0.025      0.975]\n",
      "--------------------------------------------------------------------------------------------------------\n",
      "const                                   12.1994      0.038    319.582      0.000      12.125      12.274\n",
      "Garden                                   0.2376      0.018     13.255      0.000       0.202       0.273\n",
      "Yard                                    -0.0187      0.013     -1.413      0.158      -0.045       0.007\n",
      "Terrace                                  0.0746      0.010      7.807      0.000       0.056       0.093\n",
      "Lift                                    -0.0638      0.011     -5.576      0.000      -0.086      -0.041\n",
      "Pool                                     0.2489      0.016     16.007      0.000       0.218       0.279\n",
      "Roof Access                              0.0534      0.018      2.998      0.003       0.018       0.088\n",
      "Seafront                                 0.1443      0.021      6.841      0.000       0.103       0.186\n",
      "Views                                    0.1551      0.056      2.746      0.006       0.044       0.266\n",
      "Garage                                   0.1434      0.018      7.958      0.000       0.108       0.179\n",
      "Optional Garage                         -0.0004      0.010     -0.039      0.969      -0.020       0.019\n",
      "Airspace                                -0.0271      0.021     -1.307      0.191      -0.068       0.014\n",
      "Optional Airspace                       -0.0023      0.018     -0.130      0.897      -0.037       0.032\n",
      "Furnished                                0.1176      0.012      9.541      0.000       0.093       0.142\n",
      "Finished                                -0.0022      0.011     -0.200      0.842      -0.024       0.019\n",
      "Beds (2)                                 0.2272      0.018     12.496      0.000       0.192       0.263\n",
      "Beds (3)                                 0.4278      0.019     22.744      0.000       0.391       0.465\n",
      "Beds (4+)                                0.5836      0.027     21.818      0.000       0.531       0.636\n",
      "Baths (2)                                0.0562      0.013      4.422      0.000       0.031       0.081\n",
      "Baths (3)                                0.2424      0.019     12.487      0.000       0.204       0.280\n",
      "Baths (4+)                               0.4649      0.025     18.258      0.000       0.415       0.515\n",
      "Property Type_Block of Apartments        0.7039      0.310      2.268      0.023       0.096       1.312\n",
      "Property Type_Bungalow                   0.9945      0.098     10.159      0.000       0.803       1.186\n",
      "Property Type_Detached Bungalow          1.1632      0.157      7.408      0.000       0.855       1.471\n",
      "Property Type_Detached Villa             1.0918      0.070     15.700      0.000       0.955       1.228\n",
      "Property Type_Duplex                     0.1008      0.092      1.099      0.272      -0.079       0.281\n",
      "Property Type_Farm House                 0.9553      0.062     15.438      0.000       0.834       1.077\n",
      "Property Type_Guest House               -0.0299      0.310     -0.096      0.923      -0.638       0.578\n",
      "Property Type_Hotel                      2.2577      0.309      7.297      0.000       1.651       2.864\n",
      "Property Type_House                      0.4233      0.053      7.970      0.000       0.319       0.527\n",
      "Property Type_House of Character         0.5075      0.031     16.569      0.000       0.447       0.568\n",
      "Property Type_Maisonette                 0.0715      0.015      4.633      0.000       0.041       0.102\n",
      "Property Type_Palazzo                    1.3569      0.061     22.330      0.000       1.238       1.476\n",
      "Property Type_Penthouse                  0.2857      0.014     20.369      0.000       0.258       0.313\n",
      "Property Type_Plot                       0.2506      0.311      0.806      0.420      -0.359       0.860\n",
      "Property Type_Semi-Detached Bungalow     0.7762      0.142      5.470      0.000       0.498       1.054\n",
      "Property Type_Semi-Detached House        1.4254      0.230      6.195      0.000       0.974       1.876\n",
      "Property Type_Semi-Detached Villa        0.8464      0.055     15.292      0.000       0.738       0.955\n",
      "Property Type_Site                       0.2408      0.220      1.096      0.273      -0.190       0.672\n",
      "Property Type_Terraced House             0.3715      0.032     11.640      0.000       0.309       0.434\n",
      "Property Type_Town House                 0.3312      0.027     12.489      0.000       0.279       0.383\n",
      "Property Type_Villa                      0.8767      0.044     19.963      0.000       0.791       0.963\n",
      "Property Type_Village House              1.3563      0.312      4.349      0.000       0.745       1.968\n",
      "Locality_Balzan                          0.0110      0.047      0.233      0.816      -0.082       0.104\n",
      "Locality_Birkirkara                     -0.1985      0.039     -5.113      0.000      -0.275      -0.122\n",
      "Locality_Birzebbuga                     -0.2063      0.049     -4.220      0.000      -0.302      -0.110\n",
      "Locality_Cospicua (Bormla)              -0.2293      0.058     -3.977      0.000      -0.342      -0.116\n",
      "Locality_Dingli                          0.1230      0.067      1.833      0.067      -0.009       0.255\n",
      "Locality_Fgura                          -0.2214      0.045     -4.891      0.000      -0.310      -0.133\n",
      "Locality_Floriana                        0.2885      0.115      2.519      0.012       0.064       0.513\n",
      "Locality_Gharghur                        0.1783      0.059      3.018      0.003       0.062       0.294\n",
      "Locality_Ghaxaq                         -0.2209      0.061     -3.640      0.000      -0.340      -0.102\n",
      "Locality_Gozo - Fontana                 -0.6375      0.096     -6.664      0.000      -0.825      -0.450\n",
      "Locality_Gozo - Ghajnsielem             -0.4662      0.053     -8.831      0.000      -0.570      -0.363\n",
      "Locality_Gozo - Gharb                   -0.4097      0.073     -5.625      0.000      -0.553      -0.267\n",
      "Locality_Gozo - Ghasri                  -0.4738      0.159     -2.976      0.003      -0.786      -0.162\n",
      "Locality_Gozo - Kercem                  -0.3526      0.093     -3.796      0.000      -0.535      -0.170\n",
      "Locality_Gozo - Munxar                  -0.4445      0.055     -8.098      0.000      -0.552      -0.337\n",
      "Locality_Gozo - Nadur                   -0.5145      0.073     -7.063      0.000      -0.657      -0.372\n",
      "Locality_Gozo - Qala                    -0.5097      0.052     -9.851      0.000      -0.611      -0.408\n",
      "Locality_Gozo - San Lawrenz              0.3241      0.131      2.475      0.013       0.067       0.581\n",
      "Locality_Gozo - Sannat                  -0.4695      0.077     -6.097      0.000      -0.621      -0.319\n",
      "Locality_Gozo - Victoria                -0.4226      0.055     -7.649      0.000      -0.531      -0.314\n",
      "Locality_Gozo - Xaghra                  -0.4408      0.056     -7.929      0.000      -0.550      -0.332\n",
      "Locality_Gozo - Xewkija                 -0.7336      0.055    -13.248      0.000      -0.842      -0.625\n",
      "Locality_Gozo - Zebbug                  -0.3055      0.068     -4.467      0.000      -0.440      -0.171\n",
      "Locality_Gudja                          -0.1356      0.078     -1.735      0.083      -0.289       0.018\n",
      "Locality_Gzira                           0.0439      0.043      1.014      0.311      -0.041       0.129\n",
      "Locality_Hamrun                         -0.3173      0.048     -6.580      0.000      -0.412      -0.223\n",
      "Locality_Iklin                           0.0118      0.052      0.226      0.821      -0.091       0.114\n",
      "Locality_Kalkara                         0.3124      0.079      3.949      0.000       0.157       0.467\n",
      "Locality_Kirkop                         -0.0269      0.074     -0.366      0.714      -0.171       0.117\n",
      "Locality_Lija                            0.2114      0.043      4.954      0.000       0.128       0.295\n",
      "Locality_Luqa                           -0.2498      0.062     -4.002      0.000      -0.372      -0.127\n",
      "Locality_Marsa                          -0.5674      0.099     -5.735      0.000      -0.761      -0.373\n",
      "Locality_Marsascala                     -0.0792      0.040     -1.996      0.046      -0.157      -0.001\n",
      "Locality_Marsaxlokk                     -0.0549      0.044     -1.251      0.211      -0.141       0.031\n",
      "Locality_Mdina                           0.7590      0.145      5.245      0.000       0.475       1.043\n",
      "Locality_Mellieha                        0.0599      0.039      1.524      0.128      -0.017       0.137\n",
      "Locality_Mgarr                           0.0615      0.065      0.942      0.346      -0.066       0.189\n",
      "Locality_Mosta                           0.0134      0.037      0.365      0.715      -0.058       0.085\n",
      "Locality_Mqabba                         -0.1771      0.089     -1.989      0.047      -0.352      -0.003\n",
      "Locality_Msida                          -0.2289      0.046     -4.974      0.000      -0.319      -0.139\n",
      "Locality_Mtarfa                          0.1090      0.159      0.687      0.492      -0.202       0.420\n",
      "Locality_Naxxar                         -0.0334      0.040     -0.827      0.408      -0.112       0.046\n",
      "Locality_Paola                          -0.4703      0.050     -9.446      0.000      -0.568      -0.373\n",
      "Locality_Pembroke                        0.2304      0.099      2.324      0.020       0.036       0.425\n",
      "Locality_Pieta                          -0.1760      0.050     -3.514      0.000      -0.274      -0.078\n",
      "Locality_Qormi                          -0.2227      0.042     -5.284      0.000      -0.305      -0.140\n",
      "Locality_Qrendi                         -0.1059      0.069     -1.527      0.127      -0.242       0.030\n",
      "Locality_Rabat                           0.0561      0.048      1.173      0.241      -0.038       0.150\n",
      "Locality_Safi                            0.0259      0.074      0.351      0.726      -0.119       0.171\n",
      "Locality_San Gwann                      -0.1021      0.044     -2.317      0.021      -0.189      -0.016\n",
      "Locality_Santa Lucia                     0.0221      0.123      0.180      0.857      -0.219       0.263\n",
      "Locality_Santa Venera                   -0.2245      0.060     -3.737      0.000      -0.342      -0.107\n",
      "Locality_Senglea                        -0.0857      0.073     -1.171      0.242      -0.229       0.058\n",
      "Locality_Siggiewi                        0.0004      0.054      0.008      0.994      -0.106       0.107\n",
      "Locality_Sliema                          0.5404      0.038     14.144      0.000       0.466       0.615\n",
      "Locality_St Julian's                     0.4806      0.039     12.219      0.000       0.404       0.558\n",
      "Locality_St Paul's Bay                  -0.1629      0.036     -4.505      0.000      -0.234      -0.092\n",
      "Locality_Swieqi                          0.2173      0.039      5.516      0.000       0.140       0.294\n",
      "Locality_Ta' Xbiex                       0.1102      0.075      1.460      0.144      -0.038       0.258\n",
      "Locality_Tarxien                        -0.2484      0.053     -4.645      0.000      -0.353      -0.144\n",
      "Locality_Valletta                        0.6798      0.063     10.790      0.000       0.556       0.803\n",
      "Locality_Vittoriosa (Birgu)              0.1128      0.109      1.034      0.301      -0.101       0.327\n",
      "Locality_Xghajra                        -0.0361      0.084     -0.430      0.667      -0.201       0.128\n",
      "Locality_Zabbar                         -0.2431      0.042     -5.783      0.000      -0.325      -0.161\n",
      "Locality_Zebbug                         -0.0847      0.042     -1.998      0.046      -0.168      -0.002\n",
      "Locality_Zejtun                         -0.1952      0.044     -4.462      0.000      -0.281      -0.109\n",
      "Locality_Zurrieq                        -0.1329      0.045     -2.952      0.003      -0.221      -0.045\n",
      "==============================================================================\n",
      "Omnibus:                     1442.005   Durbin-Watson:                   1.902\n",
      "Prob(Omnibus):                  0.000   Jarque-Bera (JB):             9404.361\n",
      "Skew:                           1.116   Prob(JB):                         0.00\n",
      "Kurtosis:                       9.077   Cond. No.                         126.\n",
      "==============================================================================\n",
      "\n",
      "Notes:\n",
      "[1] Standard Errors assume that the covariance matrix of the errors is correctly specified.\n"
     ]
    }
   ],
   "source": [
    "# Estimate Simple Linear Regression\n",
    "X = sm.add_constant(X)\n",
    "results = sm.OLS(log_price, X).fit()\n",
    "print(results.summary())"
   ]
  },
  {
   "cell_type": "markdown",
   "id": "694b6b84",
   "metadata": {},
   "source": [
    "The regression is imperfect, with several insignificant variables (determined by p-value of less than 0.05) and a large JB (with P(JB) less than 0.05, indicates non-normal residuals), but figures such as the Adj. R Squared and F-Statistic indicate that the regression is able to significantly explain most price changes (log(Price)). The regression is deemed adequate for a simple and quick property price estimate, but the model is admittedly imperfect. The regression might require heteroskedasticity robustness subject to tests for heteroskedasticity."
   ]
  },
  {
   "cell_type": "code",
   "execution_count": 14,
   "id": "cecfbbfb",
   "metadata": {
    "ExecuteTime": {
     "end_time": "2023-04-23T21:11:04.233262Z",
     "start_time": "2023-04-23T21:11:04.219964Z"
    }
   },
   "outputs": [
    {
     "name": "stdout",
     "output_type": "stream",
     "text": [
      "Expected Price for Property of Interest : 620649\n"
     ]
    }
   ],
   "source": [
    "# Price Estimate for Property of Interest\n",
    "EPrice = math.exp(results.params['const'] + results.params['Beds (3)'] + results.params['Baths (2)'] + results.params['Lift'] +\n",
    "                  results.params['Pool'] + results.params['Roof Access'] + results.params['Furnished'] + results.params['Property Type_Penthouse'] + \n",
    "                  results.params['Locality_Mosta'])\n",
    "print('Expected Price for Property of Interest :', round(EPrice))"
   ]
  },
  {
   "cell_type": "code",
   "execution_count": 15,
   "id": "172c0933",
   "metadata": {
    "ExecuteTime": {
     "end_time": "2023-04-23T21:11:04.248558Z",
     "start_time": "2023-04-23T21:11:04.233262Z"
    }
   },
   "outputs": [
    {
     "name": "stdout",
     "output_type": "stream",
     "text": [
      "Expected Price for Property of Interest, Excluding Pool: 483900\n"
     ]
    }
   ],
   "source": [
    "# Price Estimate for Property of Interest - Excluding Pool\n",
    "EPrice = math.exp(results.params['const'] + results.params['Beds (3)'] + results.params['Baths (2)'] + results.params['Lift'] + \n",
    "                  results.params['Roof Access'] + results.params['Furnished'] + results.params['Property Type_Penthouse'] + \n",
    "                  results.params['Locality_Mosta'])\n",
    "print('Expected Price for Property of Interest, Excluding Pool:', round(EPrice))"
   ]
  },
  {
   "cell_type": "code",
   "execution_count": null,
   "id": "abfedd80",
   "metadata": {},
   "outputs": [],
   "source": []
  }
 ],
 "metadata": {
  "kernelspec": {
   "display_name": "Python 3 (ipykernel)",
   "language": "python",
   "name": "python3"
  },
  "language_info": {
   "codemirror_mode": {
    "name": "ipython",
    "version": 3
   },
   "file_extension": ".py",
   "mimetype": "text/x-python",
   "name": "python",
   "nbconvert_exporter": "python",
   "pygments_lexer": "ipython3",
   "version": "3.9.12"
  }
 },
 "nbformat": 4,
 "nbformat_minor": 5
}
