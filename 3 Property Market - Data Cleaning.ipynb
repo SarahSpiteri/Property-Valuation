{
 "cells": [
  {
   "cell_type": "markdown",
   "id": "bc4a845b",
   "metadata": {},
   "source": [
    "# Data Cleaning\n",
    "## Property Market"
   ]
  },
  {
   "cell_type": "code",
   "execution_count": 1,
   "id": "9511dd5b",
   "metadata": {
    "ExecuteTime": {
     "end_time": "2023-04-23T12:21:28.789923Z",
     "start_time": "2023-04-23T12:21:27.034830Z"
    }
   },
   "outputs": [],
   "source": [
    "# General Data Analysis\n",
    "import pandas as pd\n",
    "import numpy as np\n",
    "\n",
    "# Text Based Libraries\n",
    "import re\n",
    "import nltk\n",
    "import gensim\n",
    "from nltk.stem import SnowballStemmer   \n",
    "from nltk.stem.wordnet import WordNetLemmatizer\n",
    "from gensim.parsing.preprocessing import STOPWORDS\n",
    "from nltk.corpus import stopwords\n",
    "from sklearn.feature_extraction.text import TfidfVectorizer"
   ]
  },
  {
   "cell_type": "code",
   "execution_count": 2,
   "id": "363a45d5",
   "metadata": {
    "ExecuteTime": {
     "end_time": "2023-04-23T12:21:28.805718Z",
     "start_time": "2023-04-23T12:21:28.789923Z"
    }
   },
   "outputs": [],
   "source": [
    "# Import Created Custom Functions from other files\n",
    "from ipynb.fs.full.TextFunctions import abbr_or_lower, tokenize, find_words, get_feature"
   ]
  },
  {
   "cell_type": "code",
   "execution_count": 3,
   "id": "16380f73",
   "metadata": {
    "ExecuteTime": {
     "end_time": "2023-04-23T12:21:28.915192Z",
     "start_time": "2023-04-23T12:21:28.810954Z"
    }
   },
   "outputs": [
    {
     "name": "stdout",
     "output_type": "stream",
     "text": [
      "Property Market Dataframe Size : (5608, 9)\n"
     ]
    },
    {
     "data": {
      "text/html": [
       "<div>\n",
       "<style scoped>\n",
       "    .dataframe tbody tr th:only-of-type {\n",
       "        vertical-align: middle;\n",
       "    }\n",
       "\n",
       "    .dataframe tbody tr th {\n",
       "        vertical-align: top;\n",
       "    }\n",
       "\n",
       "    .dataframe thead th {\n",
       "        text-align: right;\n",
       "    }\n",
       "</style>\n",
       "<table border=\"1\" class=\"dataframe\">\n",
       "  <thead>\n",
       "    <tr style=\"text-align: right;\">\n",
       "      <th></th>\n",
       "      <th>Links</th>\n",
       "      <th>Locality</th>\n",
       "      <th>Price</th>\n",
       "      <th>Beds</th>\n",
       "      <th>Property Type</th>\n",
       "      <th>Baths</th>\n",
       "      <th>Size</th>\n",
       "      <th>Description</th>\n",
       "      <th>Features</th>\n",
       "    </tr>\n",
       "  </thead>\n",
       "  <tbody>\n",
       "    <tr>\n",
       "      <th>0</th>\n",
       "      <td>https://www.propertymarket.com.mt/view/2-bedro...</td>\n",
       "      <td>Attard</td>\n",
       "      <td>349000</td>\n",
       "      <td>2</td>\n",
       "      <td>Town House</td>\n",
       "      <td>2.0</td>\n",
       "      <td>105.0</td>\n",
       "      <td>Property descriptionBIRKIRKARA – Located in a ...</td>\n",
       "      <td>NaN</td>\n",
       "    </tr>\n",
       "    <tr>\n",
       "      <th>1</th>\n",
       "      <td>https://www.propertymarket.com.mt/view/2-bedro...</td>\n",
       "      <td>Marsascala</td>\n",
       "      <td>300000</td>\n",
       "      <td>2</td>\n",
       "      <td>Apartment</td>\n",
       "      <td>2.0</td>\n",
       "      <td>107.0</td>\n",
       "      <td>Property descriptionA 2 Bedroom second floor A...</td>\n",
       "      <td>['Double Glazing', 'Dining room', 'Kitchen', '...</td>\n",
       "    </tr>\n",
       "    <tr>\n",
       "      <th>2</th>\n",
       "      <td>https://www.propertymarket.com.mt/view/2-bedro...</td>\n",
       "      <td>Birkirkara</td>\n",
       "      <td>247000</td>\n",
       "      <td>2</td>\n",
       "      <td>Apartment</td>\n",
       "      <td>NaN</td>\n",
       "      <td>100.0</td>\n",
       "      <td>Property descriptionModern spacious 2 bedroom ...</td>\n",
       "      <td>['Balcony', 'Finished', 'Freehold', 'Furnished...</td>\n",
       "    </tr>\n",
       "    <tr>\n",
       "      <th>3</th>\n",
       "      <td>https://www.propertymarket.com.mt/view/2-bedro...</td>\n",
       "      <td>San Gwann</td>\n",
       "      <td>330000</td>\n",
       "      <td>2</td>\n",
       "      <td>Maisonette</td>\n",
       "      <td>2.0</td>\n",
       "      <td>133.0</td>\n",
       "      <td>Property descriptionSituated on the outskirts ...</td>\n",
       "      <td>['Freehold', 'Garage optional (two car)']</td>\n",
       "    </tr>\n",
       "    <tr>\n",
       "      <th>4</th>\n",
       "      <td>https://www.propertymarket.com.mt/view/3-bedro...</td>\n",
       "      <td>Balzan</td>\n",
       "      <td>425000</td>\n",
       "      <td>3</td>\n",
       "      <td>Apartment</td>\n",
       "      <td>2.0</td>\n",
       "      <td>156.0</td>\n",
       "      <td>Property descriptionA very well located modern...</td>\n",
       "      <td>['Balcony', 'Bathroom', 'Bedroom', 'Dining roo...</td>\n",
       "    </tr>\n",
       "  </tbody>\n",
       "</table>\n",
       "</div>"
      ],
      "text/plain": [
       "                                               Links    Locality   Price  \\\n",
       "0  https://www.propertymarket.com.mt/view/2-bedro...      Attard  349000   \n",
       "1  https://www.propertymarket.com.mt/view/2-bedro...  Marsascala  300000   \n",
       "2  https://www.propertymarket.com.mt/view/2-bedro...  Birkirkara  247000   \n",
       "3  https://www.propertymarket.com.mt/view/2-bedro...   San Gwann  330000   \n",
       "4  https://www.propertymarket.com.mt/view/3-bedro...      Balzan  425000   \n",
       "\n",
       "   Beds Property Type  Baths   Size  \\\n",
       "0     2    Town House    2.0  105.0   \n",
       "1     2     Apartment    2.0  107.0   \n",
       "2     2     Apartment    NaN  100.0   \n",
       "3     2    Maisonette    2.0  133.0   \n",
       "4     3     Apartment    2.0  156.0   \n",
       "\n",
       "                                         Description  \\\n",
       "0  Property descriptionBIRKIRKARA – Located in a ...   \n",
       "1  Property descriptionA 2 Bedroom second floor A...   \n",
       "2  Property descriptionModern spacious 2 bedroom ...   \n",
       "3  Property descriptionSituated on the outskirts ...   \n",
       "4  Property descriptionA very well located modern...   \n",
       "\n",
       "                                            Features  \n",
       "0                                                NaN  \n",
       "1  ['Double Glazing', 'Dining room', 'Kitchen', '...  \n",
       "2  ['Balcony', 'Finished', 'Freehold', 'Furnished...  \n",
       "3          ['Freehold', 'Garage optional (two car)']  \n",
       "4  ['Balcony', 'Bathroom', 'Bedroom', 'Dining roo...  "
      ]
     },
     "execution_count": 3,
     "metadata": {},
     "output_type": "execute_result"
    }
   ],
   "source": [
    "# Load Scraped Data\n",
    "prop_market = pd.read_csv('prop_market.csv')\n",
    "print('Property Market Dataframe Size :', prop_market.shape)\n",
    "prop_market.head()"
   ]
  },
  {
   "cell_type": "code",
   "execution_count": 4,
   "id": "d39a83d1",
   "metadata": {
    "ExecuteTime": {
     "end_time": "2023-04-23T12:21:28.942161Z",
     "start_time": "2023-04-23T12:21:28.919134Z"
    }
   },
   "outputs": [
    {
     "name": "stdout",
     "output_type": "stream",
     "text": [
      "<class 'pandas.core.frame.DataFrame'>\n",
      "RangeIndex: 5608 entries, 0 to 5607\n",
      "Data columns (total 9 columns):\n",
      " #   Column         Non-Null Count  Dtype  \n",
      "---  ------         --------------  -----  \n",
      " 0   Links          5608 non-null   object \n",
      " 1   Locality       5608 non-null   object \n",
      " 2   Price          5608 non-null   object \n",
      " 3   Beds           5608 non-null   int64  \n",
      " 4   Property Type  5608 non-null   object \n",
      " 5   Baths          5467 non-null   float64\n",
      " 6   Size           2536 non-null   float64\n",
      " 7   Description    5529 non-null   object \n",
      " 8   Features       3659 non-null   object \n",
      "dtypes: float64(2), int64(1), object(6)\n",
      "memory usage: 394.4+ KB\n"
     ]
    }
   ],
   "source": [
    "# Quick Check of Nulls\n",
    "prop_market.info()"
   ]
  },
  {
   "cell_type": "code",
   "execution_count": 5,
   "id": "3a3d8353",
   "metadata": {
    "ExecuteTime": {
     "end_time": "2023-04-23T12:21:28.974527Z",
     "start_time": "2023-04-23T12:21:28.944159Z"
    }
   },
   "outputs": [
    {
     "name": "stdout",
     "output_type": "stream",
     "text": [
      "<class 'pandas.core.frame.DataFrame'>\n",
      "Int64Index: 5391 entries, 0 to 5607\n",
      "Data columns (total 9 columns):\n",
      " #   Column         Non-Null Count  Dtype  \n",
      "---  ------         --------------  -----  \n",
      " 0   Links          5391 non-null   object \n",
      " 1   Locality       5391 non-null   object \n",
      " 2   Price          5391 non-null   object \n",
      " 3   Beds           5391 non-null   int64  \n",
      " 4   Property Type  5391 non-null   object \n",
      " 5   Baths          5391 non-null   float64\n",
      " 6   Size           2450 non-null   float64\n",
      " 7   Description    5391 non-null   object \n",
      " 8   Features       3562 non-null   object \n",
      "dtypes: float64(2), int64(1), object(6)\n",
      "memory usage: 421.2+ KB\n"
     ]
    }
   ],
   "source": [
    "# Drop Rows with Nulls in Baths and Description Columns\n",
    "prop_market = prop_market.dropna(subset = ['Baths', 'Description'])\n",
    "\n",
    "# Re-Check Status of Nulls\n",
    "prop_market.info()"
   ]
  },
  {
   "cell_type": "code",
   "execution_count": 6,
   "id": "7088ad20",
   "metadata": {
    "ExecuteTime": {
     "end_time": "2023-04-23T12:21:28.993169Z",
     "start_time": "2023-04-23T12:21:28.976881Z"
    }
   },
   "outputs": [],
   "source": [
    "# Drop Size and Features Column - Excessive Portion of Nulls\n",
    "prop_market = prop_market.drop(['Size', 'Features'], axis=1)"
   ]
  },
  {
   "cell_type": "code",
   "execution_count": 7,
   "id": "89d71cf0",
   "metadata": {
    "ExecuteTime": {
     "end_time": "2023-04-23T12:21:29.009168Z",
     "start_time": "2023-04-23T12:21:28.996171Z"
    }
   },
   "outputs": [],
   "source": [
    "# Get Baths as Integer\n",
    "prop_market['Baths'] = prop_market['Baths'].astype(int)"
   ]
  },
  {
   "cell_type": "code",
   "execution_count": 8,
   "id": "a4ebb6a2",
   "metadata": {
    "ExecuteTime": {
     "end_time": "2023-04-23T12:21:29.095395Z",
     "start_time": "2023-04-23T12:21:29.011169Z"
    }
   },
   "outputs": [],
   "source": [
    "# Convert Price Column Type for better Analysis\n",
    "\n",
    "# Correct for Price Ranges\n",
    "prop_market = prop_market.reset_index()\n",
    "prop_market = prop_market.drop(['index'], axis=1)\n",
    "for i in range(len(prop_market)):\n",
    "    if len(prop_market.loc[i, 'Price']) > 8:\n",
    "        prop_market.loc[i, 'Price'] = (int(re.search('(.*) ', prop_market.loc[i, 'Price']).group(1)) + int(re.search(' (.*)', prop_market.loc[i, 'Price']).group(1)))/2\n",
    "        \n",
    "prop_market['Price'] = prop_market['Price'].astype(int)"
   ]
  },
  {
   "cell_type": "code",
   "execution_count": 9,
   "id": "837df199",
   "metadata": {
    "ExecuteTime": {
     "end_time": "2023-04-23T12:21:29.145571Z",
     "start_time": "2023-04-23T12:21:29.097436Z"
    }
   },
   "outputs": [
    {
     "data": {
      "text/html": [
       "<div>\n",
       "<style scoped>\n",
       "    .dataframe tbody tr th:only-of-type {\n",
       "        vertical-align: middle;\n",
       "    }\n",
       "\n",
       "    .dataframe tbody tr th {\n",
       "        vertical-align: top;\n",
       "    }\n",
       "\n",
       "    .dataframe thead th {\n",
       "        text-align: right;\n",
       "    }\n",
       "</style>\n",
       "<table border=\"1\" class=\"dataframe\">\n",
       "  <thead>\n",
       "    <tr style=\"text-align: right;\">\n",
       "      <th></th>\n",
       "      <th>Links</th>\n",
       "      <th>Locality</th>\n",
       "      <th>Price</th>\n",
       "      <th>Beds</th>\n",
       "      <th>Property Type</th>\n",
       "      <th>Baths</th>\n",
       "      <th>Description</th>\n",
       "    </tr>\n",
       "  </thead>\n",
       "  <tbody>\n",
       "    <tr>\n",
       "      <th>count</th>\n",
       "      <td>5391</td>\n",
       "      <td>5391</td>\n",
       "      <td>5.391000e+03</td>\n",
       "      <td>5391.000000</td>\n",
       "      <td>5391</td>\n",
       "      <td>5391.000000</td>\n",
       "      <td>5391</td>\n",
       "    </tr>\n",
       "    <tr>\n",
       "      <th>unique</th>\n",
       "      <td>5391</td>\n",
       "      <td>102</td>\n",
       "      <td>NaN</td>\n",
       "      <td>NaN</td>\n",
       "      <td>26</td>\n",
       "      <td>NaN</td>\n",
       "      <td>5355</td>\n",
       "    </tr>\n",
       "    <tr>\n",
       "      <th>top</th>\n",
       "      <td>https://www.propertymarket.com.mt/view/2-bedro...</td>\n",
       "      <td>Mosta</td>\n",
       "      <td>NaN</td>\n",
       "      <td>NaN</td>\n",
       "      <td>Apartment</td>\n",
       "      <td>NaN</td>\n",
       "      <td>Property descriptionA great opportunity has ar...</td>\n",
       "    </tr>\n",
       "    <tr>\n",
       "      <th>freq</th>\n",
       "      <td>1</td>\n",
       "      <td>381</td>\n",
       "      <td>NaN</td>\n",
       "      <td>NaN</td>\n",
       "      <td>2795</td>\n",
       "      <td>NaN</td>\n",
       "      <td>3</td>\n",
       "    </tr>\n",
       "    <tr>\n",
       "      <th>mean</th>\n",
       "      <td>NaN</td>\n",
       "      <td>NaN</td>\n",
       "      <td>5.203358e+05</td>\n",
       "      <td>2.645149</td>\n",
       "      <td>NaN</td>\n",
       "      <td>2.053793</td>\n",
       "      <td>NaN</td>\n",
       "    </tr>\n",
       "    <tr>\n",
       "      <th>std</th>\n",
       "      <td>NaN</td>\n",
       "      <td>NaN</td>\n",
       "      <td>7.169393e+05</td>\n",
       "      <td>0.836346</td>\n",
       "      <td>NaN</td>\n",
       "      <td>0.972574</td>\n",
       "      <td>NaN</td>\n",
       "    </tr>\n",
       "    <tr>\n",
       "      <th>min</th>\n",
       "      <td>NaN</td>\n",
       "      <td>NaN</td>\n",
       "      <td>1.000000e+00</td>\n",
       "      <td>1.000000</td>\n",
       "      <td>NaN</td>\n",
       "      <td>1.000000</td>\n",
       "      <td>NaN</td>\n",
       "    </tr>\n",
       "    <tr>\n",
       "      <th>25%</th>\n",
       "      <td>NaN</td>\n",
       "      <td>NaN</td>\n",
       "      <td>2.550000e+05</td>\n",
       "      <td>2.000000</td>\n",
       "      <td>NaN</td>\n",
       "      <td>2.000000</td>\n",
       "      <td>NaN</td>\n",
       "    </tr>\n",
       "    <tr>\n",
       "      <th>50%</th>\n",
       "      <td>NaN</td>\n",
       "      <td>NaN</td>\n",
       "      <td>3.300000e+05</td>\n",
       "      <td>3.000000</td>\n",
       "      <td>NaN</td>\n",
       "      <td>2.000000</td>\n",
       "      <td>NaN</td>\n",
       "    </tr>\n",
       "    <tr>\n",
       "      <th>75%</th>\n",
       "      <td>NaN</td>\n",
       "      <td>NaN</td>\n",
       "      <td>4.950000e+05</td>\n",
       "      <td>3.000000</td>\n",
       "      <td>NaN</td>\n",
       "      <td>2.000000</td>\n",
       "      <td>NaN</td>\n",
       "    </tr>\n",
       "    <tr>\n",
       "      <th>max</th>\n",
       "      <td>NaN</td>\n",
       "      <td>NaN</td>\n",
       "      <td>1.500000e+07</td>\n",
       "      <td>8.000000</td>\n",
       "      <td>NaN</td>\n",
       "      <td>39.000000</td>\n",
       "      <td>NaN</td>\n",
       "    </tr>\n",
       "  </tbody>\n",
       "</table>\n",
       "</div>"
      ],
      "text/plain": [
       "                                                    Links Locality  \\\n",
       "count                                                5391     5391   \n",
       "unique                                               5391      102   \n",
       "top     https://www.propertymarket.com.mt/view/2-bedro...    Mosta   \n",
       "freq                                                    1      381   \n",
       "mean                                                  NaN      NaN   \n",
       "std                                                   NaN      NaN   \n",
       "min                                                   NaN      NaN   \n",
       "25%                                                   NaN      NaN   \n",
       "50%                                                   NaN      NaN   \n",
       "75%                                                   NaN      NaN   \n",
       "max                                                   NaN      NaN   \n",
       "\n",
       "               Price         Beds Property Type        Baths  \\\n",
       "count   5.391000e+03  5391.000000          5391  5391.000000   \n",
       "unique           NaN          NaN            26          NaN   \n",
       "top              NaN          NaN     Apartment          NaN   \n",
       "freq             NaN          NaN          2795          NaN   \n",
       "mean    5.203358e+05     2.645149           NaN     2.053793   \n",
       "std     7.169393e+05     0.836346           NaN     0.972574   \n",
       "min     1.000000e+00     1.000000           NaN     1.000000   \n",
       "25%     2.550000e+05     2.000000           NaN     2.000000   \n",
       "50%     3.300000e+05     3.000000           NaN     2.000000   \n",
       "75%     4.950000e+05     3.000000           NaN     2.000000   \n",
       "max     1.500000e+07     8.000000           NaN    39.000000   \n",
       "\n",
       "                                              Description  \n",
       "count                                                5391  \n",
       "unique                                               5355  \n",
       "top     Property descriptionA great opportunity has ar...  \n",
       "freq                                                    3  \n",
       "mean                                                  NaN  \n",
       "std                                                   NaN  \n",
       "min                                                   NaN  \n",
       "25%                                                   NaN  \n",
       "50%                                                   NaN  \n",
       "75%                                                   NaN  \n",
       "max                                                   NaN  "
      ]
     },
     "execution_count": 9,
     "metadata": {},
     "output_type": "execute_result"
    }
   ],
   "source": [
    "# Quick check of dataframe\n",
    "prop_market.describe(include = ['object', 'float', 'int'])"
   ]
  },
  {
   "cell_type": "markdown",
   "id": "9ad55967",
   "metadata": {},
   "source": [
    "Notes:\n",
    "* Number of unique localities is more than the number of local councils in Malta & Gozo (68)\n",
    "* Prices of 1 are usually alternatives to writing 'Price on Request' and prices less than 2,000 EUR are assumed incorrect\n",
    "* Large Variety of Property Types\n",
    "* Description requires text cleaning"
   ]
  },
  {
   "cell_type": "markdown",
   "id": "baeb9ac3",
   "metadata": {},
   "source": [
    "#### Locality"
   ]
  },
  {
   "cell_type": "code",
   "execution_count": 10,
   "id": "13edc59c",
   "metadata": {
    "ExecuteTime": {
     "end_time": "2023-04-23T12:21:29.160575Z",
     "start_time": "2023-04-23T12:21:29.150596Z"
    }
   },
   "outputs": [
    {
     "data": {
      "text/plain": [
       "Mosta                        381\n",
       "St Paul's Bay                305\n",
       "Sliema                       261\n",
       "Birkirkara                   207\n",
       "Mellieha                     199\n",
       "                            ... \n",
       "Birguma                        1\n",
       "Mensija                        1\n",
       "Gozo - Mgarr                   1\n",
       "The Gardens (St Julian's)      1\n",
       "Fleur-de-Lys                   1\n",
       "Name: Locality, Length: 102, dtype: int64"
      ]
     },
     "execution_count": 10,
     "metadata": {},
     "output_type": "execute_result"
    }
   ],
   "source": [
    "prop_market['Locality'].value_counts()"
   ]
  },
  {
   "cell_type": "markdown",
   "id": "94399349",
   "metadata": {},
   "source": [
    "Low observation counts for hamlets and high-rise developments. This can lead to statitical insignificance in modelling."
   ]
  },
  {
   "cell_type": "code",
   "execution_count": 11,
   "id": "567b6945",
   "metadata": {
    "ExecuteTime": {
     "end_time": "2023-04-23T12:21:29.183786Z",
     "start_time": "2023-04-23T12:21:29.160575Z"
    }
   },
   "outputs": [
    {
     "data": {
      "text/plain": [
       "array(['Attard', 'Marsascala', 'San Gwann', 'Balzan', 'Zebbug', 'Sliema',\n",
       "       'Naxxar', 'Rabat', 'Swieqi', 'Birkirkara', 'Marsaxlokk', 'Bahrija',\n",
       "       'Tarxien', 'Zurrieq', 'Mosta', 'Qormi', 'Birzebbuga', 'Portomaso',\n",
       "       'Vittoriosa (Birgu)', \"St Paul's Bay\", 'Gozo - Victoria', 'Fgura',\n",
       "       'Mgarr', \"St Julian's\", 'Pendergardens', 'Gozo - Ghajnsielem',\n",
       "       'Cospicua (Bormla)', 'Kalkara', 'Hamrun', 'Gozo - Sannat',\n",
       "       'Mellieha', 'Santa Venera', 'Paola', 'Zabbar', 'Maghtab', 'Pieta',\n",
       "       'Guardamangia', 'Santa Maria Estate (Mellieha)', 'Bugibba',\n",
       "       'Iklin', 'Madliena', 'Gozo - Gharb', 'Msida',\n",
       "       'Gozo - Santa Lucija', 'Xemxija', 'Bahar Ic-Caghaq', \"Ta' Xbiex\",\n",
       "       'Birguma', 'Gozo - Qala', 'Valletta', 'Qawra', 'Zejtun',\n",
       "       \"Ta' l-Ibragg\", 'Marsa', 'Siggiewi', 'Gozo - Zebbug', 'Mqabba',\n",
       "       'Gharghur', 'Gozo - Xaghra', 'Gzira', 'Gudja', 'Ghaxaq', 'Luqa',\n",
       "       'Gozo - Xlendi', 'Safi', 'Burmarrad', 'Senglea', 'Gozo - Fontana',\n",
       "       'San Pawl tat Targa', 'Lija', 'Gozo - Xewkija',\n",
       "       'Gozo - Marsalforn', 'Kirkop', 'Xghajra', 'Bingemma', 'Kappara',\n",
       "       'Santa Lucia', 'Dingli', 'Mtarfa', 'Qrendi', 'Wardija',\n",
       "       'High Ridge', 'Tigne Point', 'Gozo - Kercem', 'Paceville',\n",
       "       'Fort Cambridge', 'Floriana', 'Gozo - Nadur', 'Manikata', 'Mdina',\n",
       "       'Gozo - Ghasri', 'Zebbiegh', 'Swatar', 'Gozo - Munxar', 'Pembroke',\n",
       "       'Salina', 'Gozo - San Lawrenz', \"Ta' Giorni\", 'Mensija',\n",
       "       'Gozo - Mgarr', \"The Gardens (St Julian's)\", 'Fleur-de-Lys'],\n",
       "      dtype=object)"
      ]
     },
     "execution_count": 11,
     "metadata": {},
     "output_type": "execute_result"
    }
   ],
   "source": [
    "# Show included localities\n",
    "prop_market['Locality'].unique()"
   ]
  },
  {
   "cell_type": "code",
   "execution_count": 12,
   "id": "0f101177",
   "metadata": {
    "ExecuteTime": {
     "end_time": "2023-04-23T12:21:29.272414Z",
     "start_time": "2023-04-23T12:21:29.183786Z"
    }
   },
   "outputs": [
    {
     "name": "stdout",
     "output_type": "stream",
     "text": [
      "Number of Localities : 68\n"
     ]
    }
   ],
   "source": [
    "# Assign Hamlets and Highrises to respective Local Councils\n",
    "\n",
    "prop_market['Locality'] = np.where((prop_market['Locality'] == 'Guardamangia'), 'Pieta', prop_market['Locality'])\n",
    "\n",
    "prop_market['Locality'] = np.where((prop_market['Locality'] == 'Zebbiegh'), 'Mgarr', prop_market['Locality'])\n",
    "\n",
    "prop_market['Locality'] = np.where((prop_market['Locality'] == 'Gozo - Santa Lucija'), 'Gozo - Kercem', prop_market['Locality'])\n",
    "\n",
    "prop_market['Locality'] = np.where((prop_market['Locality'] == 'Gozo - Marsalforn'), 'Gozo - Zebbug', prop_market['Locality'])\n",
    "\n",
    "prop_market['Locality'] = np.where((prop_market['Locality'] == 'Gozo - Mgarr'), 'Gozo - Ghajnsielem', prop_market['Locality'])\n",
    "\n",
    "prop_market['Locality'] = np.where((prop_market['Locality'] == 'Gozo - Xlendi'), 'Gozo - Munxar', prop_market['Locality'])\n",
    "\n",
    "sgn = ['Kappara', 'Mensija']\n",
    "for i in sgn:\n",
    "    prop_market['Locality'] = np.where((prop_market['Locality'] == i), 'San Gwann', prop_market['Locality'])\n",
    "\n",
    "bkr = ['Swatar', 'Fleur-de-Lys']\n",
    "for i in bkr:\n",
    "    prop_market['Locality'] = np.where((prop_market['Locality'] == i), 'Birkirkara', prop_market['Locality'])\n",
    "\n",
    "slm = ['Tigne Point', 'Fort Cambridge']\n",
    "for i in slm:\n",
    "    prop_market['Locality'] = np.where((prop_market['Locality'] == i), 'Sliema', prop_market['Locality'])\n",
    "\n",
    "rbt = ['Bahrija', 'Bingemma']\n",
    "for i in rbt:\n",
    "    prop_market['Locality'] = np.where((prop_market['Locality'] == i), 'Rabat', prop_market['Locality'])\n",
    "\n",
    "stj = ['Portomaso', 'Pendergardens', 'Paceville', \"Ta' Giorni\", \"The Gardens (St Julian's)\"]\n",
    "for i in stj:\n",
    "    prop_market['Locality'] = np.where((prop_market['Locality'] == i), \"St Julian's\", prop_market['Locality'])\n",
    "    \n",
    "nxr = ['Maghtab', 'Bahar Ic-Caghaq', 'Birguma', 'San Pawl tat Targa', 'Salina']\n",
    "for i in nxr:\n",
    "    prop_market['Locality'] = np.where((prop_market['Locality'] == i), 'Naxxar', prop_market['Locality'])\n",
    "    \n",
    "mlh = ['Santa Maria Estate (Mellieha)', 'Manikata']\n",
    "for i in mlh:\n",
    "    prop_market['Locality'] = np.where((prop_market['Locality'] == i), 'Mellieha', prop_market['Locality'])\n",
    "                                       \n",
    "spb = ['Bugibba', 'Xemxija', 'Qawra', 'Burmarrad', 'Wardija']\n",
    "for i in spb:\n",
    "    prop_market['Locality'] = np.where((prop_market['Locality'] == i), \"St Paul's Bay\", prop_market['Locality'])\n",
    "    \n",
    "swq = ['Madliena', \"Ta' l-Ibragg\", 'High Ridge']\n",
    "for i in swq:\n",
    "    prop_market['Locality'] = np.where((prop_market['Locality'] == i), 'Swieqi', prop_market['Locality'])\n",
    "    \n",
    "print('Number of Localities :', len(prop_market['Locality'].unique().tolist()))"
   ]
  },
  {
   "cell_type": "markdown",
   "id": "b1976e48",
   "metadata": {},
   "source": [
    "#### Price"
   ]
  },
  {
   "cell_type": "code",
   "execution_count": 13,
   "id": "af6518b2",
   "metadata": {
    "ExecuteTime": {
     "end_time": "2023-04-23T12:21:29.307880Z",
     "start_time": "2023-04-23T12:21:29.276576Z"
    }
   },
   "outputs": [
    {
     "name": "stdout",
     "output_type": "stream",
     "text": [
      "Dataframe Size : (5385, 7)\n"
     ]
    }
   ],
   "source": [
    "# Remove Prices below 2000 \n",
    "prop_market = prop_market[prop_market['Price'] > 2000]\n",
    "print('Dataframe Size :', prop_market.shape)"
   ]
  },
  {
   "cell_type": "markdown",
   "id": "2ce31f5b",
   "metadata": {},
   "source": [
    "#### Property Types"
   ]
  },
  {
   "cell_type": "code",
   "execution_count": 14,
   "id": "3bd6d2d1",
   "metadata": {
    "ExecuteTime": {
     "end_time": "2023-04-23T12:21:29.323922Z",
     "start_time": "2023-04-23T12:21:29.310885Z"
    }
   },
   "outputs": [
    {
     "data": {
      "text/plain": [
       "array(['Town House', 'Apartment', 'Maisonette', 'Penthouse', 'Palazzo',\n",
       "       'House of Character', 'Terraced House', 'Bungalow', 'Villa',\n",
       "       'House', 'Semi-Detached House', 'Duplex', 'Semi-Detached Bungalow',\n",
       "       'Farm House', 'Semi-Detached Villa', 'Detached Villa',\n",
       "       'Village House', 'Site', 'Apartment For Sale in',\n",
       "       'Penthouse For Sale in', 'Hotel', 'Detached Bungalow', 'Plot',\n",
       "       'Guest House', 'Terraced House For Sale in', 'Block of Apartments'],\n",
       "      dtype=object)"
      ]
     },
     "execution_count": 14,
     "metadata": {},
     "output_type": "execute_result"
    }
   ],
   "source": [
    "# Show included property types\n",
    "prop_market['Property Type'].unique()"
   ]
  },
  {
   "cell_type": "code",
   "execution_count": 15,
   "id": "1ec98d6f",
   "metadata": {
    "ExecuteTime": {
     "end_time": "2023-04-23T12:21:29.349320Z",
     "start_time": "2023-04-23T12:21:29.332885Z"
    }
   },
   "outputs": [],
   "source": [
    "# Adjust Scraping Errors\n",
    "\n",
    "prop_market['Property Type'] = np.where((prop_market['Property Type'] == 'Apartment For Sale in'), 'Apartment', prop_market['Property Type'])\n",
    "\n",
    "prop_market['Property Type'] = np.where((prop_market['Property Type'] == 'Penthouse For Sale in'), 'Penthouse', prop_market['Property Type'])\n",
    "\n",
    "prop_market['Property Type'] = np.where((prop_market['Property Type'] == 'Terraced House For Sale in'), 'Terraced House', prop_market['Property Type'])"
   ]
  },
  {
   "cell_type": "markdown",
   "id": "01c4798d",
   "metadata": {
    "ExecuteTime": {
     "end_time": "2023-04-20T21:40:00.587388Z",
     "start_time": "2023-04-20T21:40:00.579461Z"
    }
   },
   "source": [
    "#### Description"
   ]
  },
  {
   "cell_type": "code",
   "execution_count": 16,
   "id": "38769d7e",
   "metadata": {
    "ExecuteTime": {
     "end_time": "2023-04-23T12:21:29.392280Z",
     "start_time": "2023-04-23T12:21:29.351981Z"
    }
   },
   "outputs": [],
   "source": [
    "# Remove Common Start of Description Text\n",
    "prop_market['Description'] = prop_market['Description'].str.replace('Property description', '')"
   ]
  },
  {
   "cell_type": "code",
   "execution_count": 17,
   "id": "dd406b99",
   "metadata": {
    "ExecuteTime": {
     "end_time": "2023-04-23T12:21:36.966550Z",
     "start_time": "2023-04-23T12:21:29.392280Z"
    }
   },
   "outputs": [],
   "source": [
    "# Clean Text with lowercase and lemmatization\n",
    "prop_market['Description - Clean'] = [tokenize(listing, 2) for listing in prop_market['Description']]"
   ]
  },
  {
   "cell_type": "markdown",
   "id": "87323e61",
   "metadata": {},
   "source": [
    "## Create Features From Text"
   ]
  },
  {
   "cell_type": "markdown",
   "id": "f0aa6410",
   "metadata": {},
   "source": [
    "#### Garden"
   ]
  },
  {
   "cell_type": "code",
   "execution_count": 18,
   "id": "ebf4c1f9",
   "metadata": {
    "ExecuteTime": {
     "end_time": "2023-04-23T12:21:37.029989Z",
     "start_time": "2023-04-23T12:21:36.966550Z"
    }
   },
   "outputs": [
    {
     "data": {
      "text/plain": [
       "{'backgarden',\n",
       " 'garden',\n",
       " 'garden2',\n",
       " 'gardenfreeholde',\n",
       " 'gardenget',\n",
       " 'gardenia',\n",
       " 'gardening',\n",
       " 'gardenluxury',\n",
       " 'gardensexperience',\n",
       " 'gardenstreet',\n",
       " 'gardenuca',\n",
       " 'gardjola',\n",
       " 'pendergardens',\n",
       " 'regarded',\n",
       " 'terracegarden'}"
      ]
     },
     "execution_count": 18,
     "metadata": {},
     "output_type": "execute_result"
    }
   ],
   "source": [
    "# Find words relating to gardens\n",
    "find_words(prop_market['Description - Clean'], 'gard', 'in')"
   ]
  },
  {
   "cell_type": "code",
   "execution_count": 19,
   "id": "c8092497",
   "metadata": {
    "ExecuteTime": {
     "end_time": "2023-04-23T12:21:37.084559Z",
     "start_time": "2023-04-23T12:21:37.033005Z"
    }
   },
   "outputs": [
    {
     "data": {
      "text/plain": [
       "0    4919\n",
       "1     466\n",
       "Name: Garden, dtype: int64"
      ]
     },
     "execution_count": 19,
     "metadata": {},
     "output_type": "execute_result"
    }
   ],
   "source": [
    "# Get Dummy for Properties with Gardens\n",
    "garden_words = ['backgarden', 'garden', 'garden2', 'gardenfreeholde', 'gardenget', 'gardenia', 'gardening', 'gardenluxury',\n",
    "                'gardensexperience', 'gardenstreet', 'gardenuca', 'terracegarden']\n",
    "prop_market['Garden'] = get_feature(prop_market['Description - Clean'], garden_words)\n",
    "\n",
    "prop_market['Garden'].value_counts()"
   ]
  },
  {
   "cell_type": "markdown",
   "id": "1f8254bd",
   "metadata": {},
   "source": [
    "#### Yard"
   ]
  },
  {
   "cell_type": "code",
   "execution_count": 20,
   "id": "7e59590c",
   "metadata": {
    "ExecuteTime": {
     "end_time": "2023-04-23T12:21:37.155913Z",
     "start_time": "2023-04-23T12:21:37.086562Z"
    }
   },
   "outputs": [
    {
     "data": {
      "text/plain": [
       "{'backyard',\n",
       " 'backyard1',\n",
       " 'backyardbox',\n",
       " 'backyardfreeholde',\n",
       " 'backyardinternal',\n",
       " 'backyardlaundry',\n",
       " 'backyardmain',\n",
       " 'backyardref',\n",
       " 'backyardsroof',\n",
       " 'backyardthis',\n",
       " 'bathroombackyard',\n",
       " 'bathroombackyardfreeholde',\n",
       " 'bathroombackyardlaundry',\n",
       " 'bathroombackyardmaltese',\n",
       " 'bathroombackyardoptional',\n",
       " 'bathroombackyardpoolbalconyterraceroof',\n",
       " 'bathroombackyardroof',\n",
       " 'bathroomcourtyardlounge',\n",
       " 'bathroomcourtyardmassive',\n",
       " 'bathroomcourtyardroof',\n",
       " 'bathroomsbackyard',\n",
       " 'bathroomsbackyardlaundry',\n",
       " 'bathroomsbackyardroof',\n",
       " 'bathroomsbalconybackyardoptional',\n",
       " 'bathroomsterraceyardroof',\n",
       " 'bathroomstudybackyardfreeholde',\n",
       " 'bathroomyard',\n",
       " 'bathroomyardfreeholde',\n",
       " 'bedroomsbathroomcourtyard',\n",
       " 'corneryardmarbled',\n",
       " 'courtyard',\n",
       " 'courtyard2',\n",
       " 'courtyard4',\n",
       " 'courtyardbalconiesroof',\n",
       " 'courtyardlocated',\n",
       " 'courtyardroof',\n",
       " 'courtyardterracefreeholde',\n",
       " 'diningbackyard',\n",
       " 'floormaisonettebackyarddesigner',\n",
       " 'inbackyardfreeholde',\n",
       " 'roombackyardcall',\n",
       " 'roombackyardfreeholde',\n",
       " 'yard',\n",
       " 'yardbackyardfreeholde',\n",
       " 'yardbalconyroof',\n",
       " 'yardbox',\n",
       " 'yardfirst',\n",
       " 'yardfreeholde',\n",
       " 'yardfully',\n",
       " 'yardideal',\n",
       " 'yardlaundry',\n",
       " 'yardmaltese',\n",
       " 'yardoptional',\n",
       " 'yardprice',\n",
       " 'yardref',\n",
       " 'yardroof'}"
      ]
     },
     "execution_count": 20,
     "metadata": {},
     "output_type": "execute_result"
    }
   ],
   "source": [
    "# Find words relating to yards\n",
    "find_words(prop_market['Description - Clean'], 'yard', 'in')"
   ]
  },
  {
   "cell_type": "code",
   "execution_count": 21,
   "id": "e7c13ea4",
   "metadata": {
    "ExecuteTime": {
     "end_time": "2023-04-23T12:21:37.265471Z",
     "start_time": "2023-04-23T12:21:37.157705Z"
    }
   },
   "outputs": [
    {
     "data": {
      "text/plain": [
       "0    4276\n",
       "1    1109\n",
       "Name: Yard, dtype: int64"
      ]
     },
     "execution_count": 21,
     "metadata": {},
     "output_type": "execute_result"
    }
   ],
   "source": [
    "# Get Dummy for Properties with Yards\n",
    "yard_words = find_words(prop_market['Description - Clean'], 'yard', 'in')\n",
    "prop_market['Yard'] = get_feature(prop_market['Description - Clean'], yard_words)\n",
    "\n",
    "prop_market['Yard'].value_counts()"
   ]
  },
  {
   "cell_type": "markdown",
   "id": "1e85e624",
   "metadata": {},
   "source": [
    "#### Terrace"
   ]
  },
  {
   "cell_type": "code",
   "execution_count": 22,
   "id": "06f2667e",
   "metadata": {
    "ExecuteTime": {
     "end_time": "2023-04-23T12:21:37.329688Z",
     "start_time": "2023-04-23T12:21:37.267481Z"
    }
   },
   "outputs": [
    {
     "data": {
      "text/plain": [
       "{'balconyterraceroof',\n",
       " 'bathroombackyardpoolbalconyterraceroof',\n",
       " 'bathroomsterrace',\n",
       " 'bathroomsterraceyardroof',\n",
       " 'bathroomterrace',\n",
       " 'bathroomterracebalconyroof',\n",
       " 'bathroomterracefreeholde',\n",
       " 'bathroomterraceroof',\n",
       " 'courtyardterracefreeholde',\n",
       " 'diningterraceone',\n",
       " 'edgeterraced',\n",
       " 'roomterrace',\n",
       " 'terrace',\n",
       " 'terrace2',\n",
       " 'terraceasking',\n",
       " 'terraceback',\n",
       " 'terracebalconyfreeholde',\n",
       " 'terracebalconyserved',\n",
       " 'terracecall',\n",
       " 'terraced',\n",
       " 'terracefinished',\n",
       " 'terracefreeholde',\n",
       " 'terracegarden',\n",
       " 'terracehighly',\n",
       " 'terraceincluding',\n",
       " 'terraceinternal',\n",
       " 'terraceoptional',\n",
       " 'terraceref',\n",
       " 'terraceroof',\n",
       " 'terraces3',\n",
       " 'terracesecond',\n",
       " 'terraceserved',\n",
       " 'terracesfreeholde',\n",
       " 'terracestep',\n",
       " 'terracesthis',\n",
       " 'terracesupvc',\n",
       " 'terracethis',\n",
       " 'thisterraced'}"
      ]
     },
     "execution_count": 22,
     "metadata": {},
     "output_type": "execute_result"
    }
   ],
   "source": [
    "# Find words relating to terraces\n",
    "find_words(prop_market['Description - Clean'], 'terrace', 'in')"
   ]
  },
  {
   "cell_type": "code",
   "execution_count": 23,
   "id": "b40f3cfe",
   "metadata": {
    "ExecuteTime": {
     "end_time": "2023-04-23T12:21:37.411614Z",
     "start_time": "2023-04-23T12:21:37.332627Z"
    }
   },
   "outputs": [
    {
     "data": {
      "text/plain": [
       "0    2852\n",
       "1    2533\n",
       "Name: Terrace, dtype: int64"
      ]
     },
     "execution_count": 23,
     "metadata": {},
     "output_type": "execute_result"
    }
   ],
   "source": [
    "# Get Dummy for Properties with Terraces\n",
    "terrace_words = ['balconyterraceroof', 'bathroombackyardpoolbalconyterraceroof', 'bathroomsterrace', \n",
    "              'bathroomsterraceyardroof', 'bathroomterrace', 'bathroomterracebalconyroof', 'bathroomterracefreeholde', \n",
    "              'bathroomterraceroof', 'courtyardterracefreeholde', 'diningterraceone', 'edgeterraced', 'roomterrace',\n",
    "              'terrace', 'terrace2', 'terraceasking', 'terraceback', 'terracebalconyfreeholde', 'terracebalconyserved', \n",
    "              'terracecall', 'terracefinished', 'terracefreeholde', 'terracegarden', 'terracehighly', 'terraceincluding',\n",
    "              'terraceinternal', 'terraceoptional', 'terraceref', 'terraceroof', 'terraces3', 'terracesecond',\n",
    "              'terraceserved', 'terracesfreeholde', 'terracestep', 'terracesthis', 'terracesupvc', 'terracethis']\n",
    "prop_market['Terrace'] = get_feature(prop_market['Description - Clean'], terrace_words)\n",
    "\n",
    "prop_market['Terrace'].value_counts()"
   ]
  },
  {
   "cell_type": "markdown",
   "id": "c0db6de7",
   "metadata": {},
   "source": [
    "#### Lift"
   ]
  },
  {
   "cell_type": "code",
   "execution_count": 24,
   "id": "25b8f4aa",
   "metadata": {
    "ExecuteTime": {
     "end_time": "2023-04-23T12:21:37.480967Z",
     "start_time": "2023-04-23T12:21:37.413619Z"
    }
   },
   "outputs": [
    {
     "data": {
      "text/plain": [
       "{'garagelift',\n",
       " 'lift',\n",
       " 'liftairspace',\n",
       " 'liftfreehold',\n",
       " 'liftfreeholde',\n",
       " 'liftown',\n",
       " 'liftpartly',\n",
       " 'liftref',\n",
       " 'liftroof'}"
      ]
     },
     "execution_count": 24,
     "metadata": {},
     "output_type": "execute_result"
    }
   ],
   "source": [
    "# Find words relating to lifts\n",
    "find_words(prop_market['Description - Clean'], 'lift', 'in')"
   ]
  },
  {
   "cell_type": "code",
   "execution_count": 25,
   "id": "0b1cdc00",
   "metadata": {
    "ExecuteTime": {
     "end_time": "2023-04-23T12:21:37.532903Z",
     "start_time": "2023-04-23T12:21:37.485580Z"
    }
   },
   "outputs": [
    {
     "data": {
      "text/plain": [
       "0    4350\n",
       "1    1035\n",
       "Name: Lift, dtype: int64"
      ]
     },
     "execution_count": 25,
     "metadata": {},
     "output_type": "execute_result"
    }
   ],
   "source": [
    "# Get Dummy for Properties with Lifts\n",
    "lift_words = ['garagelift', 'lift', 'liftairspace', 'liftfreehold', 'liftfreeholde', 'liftown', 'liftpartly', 'liftref',\n",
    "              'liftroof']\n",
    "prop_market['Lift'] = get_feature(prop_market['Description - Clean'], lift_words)\n",
    "\n",
    "prop_market['Lift'].value_counts()"
   ]
  },
  {
   "cell_type": "markdown",
   "id": "6860b5fe",
   "metadata": {},
   "source": [
    "#### Pool"
   ]
  },
  {
   "cell_type": "code",
   "execution_count": 26,
   "id": "93407464",
   "metadata": {
    "ExecuteTime": {
     "end_time": "2023-04-23T12:21:37.605759Z",
     "start_time": "2023-04-23T12:21:37.533840Z"
    }
   },
   "outputs": [
    {
     "data": {
      "text/plain": [
       "{'60sqmpool',\n",
       " 'bathroombackyardpoolbalconyterraceroof',\n",
       " 'bathroompool',\n",
       " 'pool',\n",
       " 'pool1',\n",
       " 'poolfreeholde',\n",
       " 'poolget',\n",
       " 'poolref',\n",
       " 'poolside',\n",
       " 'poolsref',\n",
       " 'pooluca',\n",
       " 'whirlpool',\n",
       " 'whirpool'}"
      ]
     },
     "execution_count": 26,
     "metadata": {},
     "output_type": "execute_result"
    }
   ],
   "source": [
    "# Find words relating to pools\n",
    "find_words(prop_market['Description - Clean'], 'pool', 'in')"
   ]
  },
  {
   "cell_type": "code",
   "execution_count": 27,
   "id": "8cdc6194",
   "metadata": {
    "ExecuteTime": {
     "end_time": "2023-04-23T12:21:37.668584Z",
     "start_time": "2023-04-23T12:21:37.607759Z"
    }
   },
   "outputs": [
    {
     "data": {
      "text/plain": [
       "0    4622\n",
       "1     763\n",
       "Name: Pool, dtype: int64"
      ]
     },
     "execution_count": 27,
     "metadata": {},
     "output_type": "execute_result"
    }
   ],
   "source": [
    "# Get Dummy for Properties with Pools\n",
    "pool_words = ['60sqmpool', 'bathroombackyardpoolbalconyterraceroof', 'bathroompool', 'pool', 'pool1', 'poolfreeholde',\n",
    "                'poolget', 'poolref', 'poolside', 'poolsref', 'pooluca']\n",
    "prop_market['Pool'] = get_feature(prop_market['Description - Clean'], pool_words)\n",
    "\n",
    "prop_market['Pool'].value_counts()"
   ]
  },
  {
   "cell_type": "markdown",
   "id": "409f9042",
   "metadata": {},
   "source": [
    "#### Roof Access"
   ]
  },
  {
   "cell_type": "code",
   "execution_count": 28,
   "id": "08072d61",
   "metadata": {
    "ExecuteTime": {
     "end_time": "2023-04-23T12:21:37.745961Z",
     "start_time": "2023-04-23T12:21:37.677068Z"
    }
   },
   "outputs": [
    {
     "data": {
      "text/plain": [
       "{'130sqmroof',\n",
       " 'areabalconyroof',\n",
       " 'backyardsroof',\n",
       " 'balconyroof',\n",
       " 'balconyterraceroof',\n",
       " 'bathroombackyardpoolbalconyterraceroof',\n",
       " 'bathroombackyardroof',\n",
       " 'bathroombalconygarageroof',\n",
       " 'bathroombalconyroof',\n",
       " 'bathroomcourtyardroof',\n",
       " 'bathroomroof',\n",
       " 'bathroomsbackyardroof',\n",
       " 'bathroomsbalconyroof',\n",
       " 'bathroomsroof',\n",
       " 'bathroomsterraceyardroof',\n",
       " 'bathroomterracebalconyroof',\n",
       " 'bathroomterraceroof',\n",
       " 'bedroomsroof',\n",
       " 'courtyardbalconiesroof',\n",
       " 'courtyardroof',\n",
       " 'floorwashroomroof',\n",
       " 'garageroof',\n",
       " 'liftroof',\n",
       " 'maisonetteroof',\n",
       " 'proof',\n",
       " 'proofed',\n",
       " 'proofing',\n",
       " 'roof',\n",
       " 'roofed',\n",
       " 'rooffreeholde',\n",
       " 'rooffreeholdoptional',\n",
       " 'roofonly',\n",
       " 'roofprivate',\n",
       " 'roofref',\n",
       " 'roofsituated',\n",
       " 'roofthis',\n",
       " 'rooftop',\n",
       " 'roofucafreehold79026090ref',\n",
       " 'roomroof',\n",
       " 'soundproofing',\n",
       " 'terraceroof',\n",
       " 'toproof',\n",
       " 'wardroberoof',\n",
       " 'washroomroof',\n",
       " 'waterproofed',\n",
       " 'waterproofing',\n",
       " 'yardbalconyroof',\n",
       " 'yardroof'}"
      ]
     },
     "execution_count": 28,
     "metadata": {},
     "output_type": "execute_result"
    }
   ],
   "source": [
    "# Find words relating to roofs\n",
    "find_words(prop_market['Description - Clean'], 'roof', 'in')"
   ]
  },
  {
   "cell_type": "code",
   "execution_count": 29,
   "id": "5f9ac5cc",
   "metadata": {
    "ExecuteTime": {
     "end_time": "2023-04-23T12:21:37.813542Z",
     "start_time": "2023-04-23T12:21:37.748946Z"
    }
   },
   "outputs": [
    {
     "data": {
      "text/plain": [
       "0    4381\n",
       "1    1004\n",
       "Name: Roof Access, dtype: int64"
      ]
     },
     "execution_count": 29,
     "metadata": {},
     "output_type": "execute_result"
    }
   ],
   "source": [
    "# Get Dummy for Properties with Roof Access\n",
    "roof_words = ['130sqmroof', 'areabalconyroof', 'backyardsroof', 'balconyroof', 'balconyterraceroof',\n",
    "              'bathroombackyardpoolbalconyterraceroof', 'bathroombackyardroof', 'bathroombalconygarageroof',\n",
    "              'bathroombalconyroof', 'bathroomcourtyardroof', 'bathroomroof', 'bathroomsbackyardroof',\n",
    "              'bathroomsbalconyroof', 'bathroomsroof', 'bathroomsterraceyardroof', 'bathroomterracebalconyroof',\n",
    "              'bathroomterraceroof', 'bedroomsroof', 'courtyardbalconiesroof', 'courtyardroof', 'floorwashroomroof',\n",
    "              'garageroof', 'liftroof', 'maisonetteroof', 'roof', 'rooffreeholde', 'rooffreeholdoptional', 'roofonly',\n",
    "              'roofprivate', 'roofref', 'roofsituated', 'roofthis', 'rooftop', 'roofucafreehold79026090ref', 'roomroof',\n",
    "              'terraceroof', 'toproof', 'wardroberoof', 'washroomroof', 'yardbalconyroof', 'yardroof']\n",
    "prop_market['Roof Access'] = get_feature(prop_market['Description - Clean'], roof_words)\n",
    "\n",
    "prop_market['Roof Access'].value_counts()"
   ]
  },
  {
   "cell_type": "markdown",
   "id": "48bb4d8e",
   "metadata": {},
   "source": [
    "#### Seafront"
   ]
  },
  {
   "cell_type": "code",
   "execution_count": 30,
   "id": "83e55719",
   "metadata": {
    "ExecuteTime": {
     "end_time": "2023-04-23T12:21:37.890869Z",
     "start_time": "2023-04-23T12:21:37.817551Z"
    }
   },
   "outputs": [
    {
     "data": {
      "text/plain": [
       "{'brendaseafront',\n",
       " 'cliffsearly',\n",
       " 'sea',\n",
       " 'seafront',\n",
       " 'seafrontref',\n",
       " 'seafrontstructurally',\n",
       " 'seainternal',\n",
       " 'seamless',\n",
       " 'seamlessly',\n",
       " 'search',\n",
       " 'seashore',\n",
       " 'seaside',\n",
       " 'season',\n",
       " 'seasonal',\n",
       " 'seater',\n",
       " 'seating',\n",
       " 'seaview',\n",
       " 'seaview3',\n",
       " 'seaviews',\n",
       " 'seaviewsopen',\n",
       " 'seaviewsref',\n",
       " 'standardssea'}"
      ]
     },
     "execution_count": 30,
     "metadata": {},
     "output_type": "execute_result"
    }
   ],
   "source": [
    "# Find words relating to seafront properties\n",
    "find_words(prop_market['Description - Clean'], 'sea', 'in')"
   ]
  },
  {
   "cell_type": "code",
   "execution_count": 31,
   "id": "f7ca13de",
   "metadata": {
    "ExecuteTime": {
     "end_time": "2023-04-23T12:21:37.958465Z",
     "start_time": "2023-04-23T12:21:37.894877Z"
    }
   },
   "outputs": [
    {
     "data": {
      "text/plain": [
       "0    5123\n",
       "1     262\n",
       "Name: Seafront, dtype: int64"
      ]
     },
     "execution_count": 31,
     "metadata": {},
     "output_type": "execute_result"
    }
   ],
   "source": [
    "# Get Dummy for Properties at the Seafront\n",
    "sea_words = ['brendaseafront', 'seafront', 'seafrontref', 'seafrontstructurally', 'seashore', 'seaside']\n",
    "prop_market['Seafront'] = get_feature(prop_market['Description - Clean'], sea_words)\n",
    "\n",
    "prop_market['Seafront'].value_counts()"
   ]
  },
  {
   "cell_type": "markdown",
   "id": "35ce9385",
   "metadata": {},
   "source": [
    "#### Views"
   ]
  },
  {
   "cell_type": "code",
   "execution_count": 32,
   "id": "f9a539bd",
   "metadata": {
    "ExecuteTime": {
     "end_time": "2023-04-23T12:21:38.044942Z",
     "start_time": "2023-04-23T12:21:37.958854Z"
    }
   },
   "outputs": [
    {
     "data": {
      "text/plain": [
       "{'2023viewings',\n",
       " 'kitchenviewopen',\n",
       " 'seaview',\n",
       " 'seaview3',\n",
       " 'seaviews',\n",
       " 'seaviewsopen',\n",
       " 'seaviewsref',\n",
       " 'view',\n",
       " 'viewanna',\n",
       " 'viewavailableprice',\n",
       " 'viewcentrally',\n",
       " 'viewed',\n",
       " 'viewing',\n",
       " 'viewinganna',\n",
       " 'viewingnicole',\n",
       " 'viewingref',\n",
       " 'viewingrobin',\n",
       " 'viewingsa',\n",
       " 'viewingslocated',\n",
       " 'viewingsnew',\n",
       " 'viewingsopportunity',\n",
       " 'viewingsref',\n",
       " 'viewingsthis',\n",
       " 'viewluxurious',\n",
       " 'viewpoint',\n",
       " 'views1',\n",
       " 'viewsapartment',\n",
       " 'viewsasking',\n",
       " 'viewscall',\n",
       " 'viewscirca',\n",
       " 'viewsenjoy',\n",
       " 'viewsfinished',\n",
       " 'viewsfully',\n",
       " 'viewsref'}"
      ]
     },
     "execution_count": 32,
     "metadata": {},
     "output_type": "execute_result"
    }
   ],
   "source": [
    "# Find words relating to properties with views\n",
    "find_words(prop_market['Description - Clean'], 'view', 'in')"
   ]
  },
  {
   "cell_type": "code",
   "execution_count": 33,
   "id": "7dbace6a",
   "metadata": {
    "ExecuteTime": {
     "end_time": "2023-04-23T12:21:38.099861Z",
     "start_time": "2023-04-23T12:21:38.047917Z"
    }
   },
   "outputs": [
    {
     "data": {
      "text/plain": [
       "0    5354\n",
       "1      31\n",
       "Name: Views, dtype: int64"
      ]
     },
     "execution_count": 33,
     "metadata": {},
     "output_type": "execute_result"
    }
   ],
   "source": [
    "# Get Dummy for Properties with Views\n",
    "view_words = ['kitchenviewopen', 'seaview', 'seaview3', 'seaviews', 'seaviewsopen', 'seaviewsref', 'views1',\n",
    "              'viewsapartment', 'viewsasking', 'viewscall', 'viewscirca', 'viewsenjoy', 'viewsfinished', 'viewsfully',\n",
    "              'viewsref']\n",
    "prop_market['Views'] = get_feature(prop_market['Description - Clean'], view_words)\n",
    "\n",
    "prop_market['Views'].value_counts()"
   ]
  },
  {
   "cell_type": "markdown",
   "id": "d15f1fd7",
   "metadata": {},
   "source": [
    "#### Garage"
   ]
  },
  {
   "cell_type": "code",
   "execution_count": 34,
   "id": "aa4a93a4",
   "metadata": {
    "ExecuteTime": {
     "end_time": "2023-04-23T12:21:38.180022Z",
     "start_time": "2023-04-23T12:21:38.102849Z"
    }
   },
   "outputs": [
    {
     "data": {
      "text/plain": [
       "{'backgarden',\n",
       " 'bathroombalconygarageroof',\n",
       " 'cigar',\n",
       " 'garage',\n",
       " 'garage315sqm',\n",
       " 'garageairspacefreeholde',\n",
       " 'garageasking',\n",
       " 'garageavailable',\n",
       " 'garagecall',\n",
       " 'garagefinished',\n",
       " 'garagefreeholde',\n",
       " 'garageget',\n",
       " 'garageinterconnected',\n",
       " 'garageit',\n",
       " 'garagelift',\n",
       " 'garagelovely',\n",
       " 'garagepermits',\n",
       " 'garagepossibility',\n",
       " 'garageref',\n",
       " 'garageroof',\n",
       " 'garageserved',\n",
       " 'garagesfreeholde',\n",
       " 'garagesref',\n",
       " 'garagestudyreading',\n",
       " 'garagetotal',\n",
       " 'garageuca',\n",
       " 'garden',\n",
       " 'garden2',\n",
       " 'gardenfreeholde',\n",
       " 'gardenget',\n",
       " 'gardenia',\n",
       " 'gardening',\n",
       " 'gardenluxury',\n",
       " 'gardensexperience',\n",
       " 'gardenstreet',\n",
       " 'gardenuca',\n",
       " 'gardjola',\n",
       " 'garett',\n",
       " 'garges',\n",
       " 'garigor',\n",
       " 'garrigor',\n",
       " 'imgarr',\n",
       " 'maisonettesapartmentspenthousesgaragesre',\n",
       " 'margarita',\n",
       " 'mgarr',\n",
       " 'pendergardens',\n",
       " 'regarded',\n",
       " 'terracegarden',\n",
       " 'torrimaisonettesapartmentspenthousesgaragesre'}"
      ]
     },
     "execution_count": 34,
     "metadata": {},
     "output_type": "execute_result"
    }
   ],
   "source": [
    "# Find words relating to properties with garages\n",
    "find_words(prop_market['Description - Clean'], 'gar', 'in')"
   ]
  },
  {
   "cell_type": "code",
   "execution_count": 35,
   "id": "49d26359",
   "metadata": {
    "ExecuteTime": {
     "end_time": "2023-04-23T12:21:38.257668Z",
     "start_time": "2023-04-23T12:21:38.184008Z"
    }
   },
   "outputs": [
    {
     "data": {
      "text/plain": [
       "0    2816\n",
       "1    2569\n",
       "Name: Garage, dtype: int64"
      ]
     },
     "execution_count": 35,
     "metadata": {},
     "output_type": "execute_result"
    }
   ],
   "source": [
    "# Get Dummy for Properties with Garages\n",
    "garage_words = ['bathroombalconygarageroof', 'garage', 'garage315sqm', 'garageairspacefreeholde', 'garageasking',\n",
    "                'garageavailable', 'garagecall', 'garagefinished', 'garagefreeholde', 'garageget', 'garageinterconnected',\n",
    "                'garageit', 'garagelift', 'garagelovely', 'garagepermits', 'garagepossibility', 'garageref', 'garageroof',\n",
    "                'garageserved', 'garagesfreeholde', 'garagesref', 'garagestudyreading', 'garagetotal', 'garageuca',\n",
    "                'garges', 'maisonettesapartmentspenthousesgaragesre', 'torrimaisonettesapartmentspenthousesgaragesre']\n",
    "prop_market['Garage'] = get_feature(prop_market['Description - Clean'], garage_words)\n",
    "\n",
    "prop_market['Garage'].value_counts()"
   ]
  },
  {
   "cell_type": "markdown",
   "id": "d2e62b81",
   "metadata": {},
   "source": [
    "#### Garage Option"
   ]
  },
  {
   "cell_type": "markdown",
   "id": "ae39b670",
   "metadata": {},
   "source": [
    "Using bigrams to see words that denote 'option' relating to gragaes in the descriptions."
   ]
  },
  {
   "cell_type": "code",
   "execution_count": 36,
   "id": "d0788356",
   "metadata": {
    "ExecuteTime": {
     "end_time": "2023-04-23T12:21:38.269482Z",
     "start_time": "2023-04-23T12:21:38.260679Z"
    }
   },
   "outputs": [],
   "source": [
    "# Instanciate TfidfVectorizer (tokenizer set to iterate over documents/paragraphs)\n",
    "tfidf2 = TfidfVectorizer(ngram_range=(2, 2), tokenizer=lambda doc: doc, lowercase=False) # Bigrams"
   ]
  },
  {
   "cell_type": "code",
   "execution_count": 37,
   "id": "fcba8ef6",
   "metadata": {
    "ExecuteTime": {
     "end_time": "2023-04-23T12:21:38.333384Z",
     "start_time": "2023-04-23T12:21:38.269482Z"
    }
   },
   "outputs": [],
   "source": [
    "# Keep descriptions that references garages\n",
    "garage_in_desc = []\n",
    "for i in prop_market['Description - Clean']:\n",
    "    if len(set(i).intersection(garage_words)) != 0:\n",
    "        garage_in_desc.append(i)"
   ]
  },
  {
   "cell_type": "code",
   "execution_count": 38,
   "id": "a396994b",
   "metadata": {
    "ExecuteTime": {
     "end_time": "2023-04-23T12:21:39.178331Z",
     "start_time": "2023-04-23T12:21:38.335181Z"
    }
   },
   "outputs": [],
   "source": [
    "# Bigrams\n",
    "tfidf_description = tfidf2.fit_transform(garage_in_desc)\n",
    "bigrams_df = pd.DataFrame.sparse.from_spmatrix(tfidf_description, columns=tfidf2.get_feature_names_out())\n",
    "desc_bigrams = list(bigrams_df.columns)"
   ]
  },
  {
   "cell_type": "code",
   "execution_count": 39,
   "id": "e5d6ca28",
   "metadata": {
    "ExecuteTime": {
     "end_time": "2023-04-23T12:21:39.208619Z",
     "start_time": "2023-04-23T12:21:39.178877Z"
    }
   },
   "outputs": [
    {
     "name": "stdout",
     "output_type": "stream",
     "text": [
      "Number of Bigrams Referencing Garages : 516\n"
     ]
    }
   ],
   "source": [
    "# Get bigrams that reference garages\n",
    "garage_bigrams = []\n",
    "for i in desc_bigrams:\n",
    "    if 'garage' in i:\n",
    "        garage_bigrams.append(i)\n",
    "        \n",
    "print('Number of Bigrams Referencing Garages :', len(garage_bigrams))"
   ]
  },
  {
   "cell_type": "code",
   "execution_count": 40,
   "id": "2ebc48d2",
   "metadata": {
    "ExecuteTime": {
     "end_time": "2023-04-23T12:21:39.247979Z",
     "start_time": "2023-04-23T12:21:39.211621Z"
    }
   },
   "outputs": [],
   "source": [
    "# Manual identification of bigrams with references to garages on offer\n",
    "garage_opt_bi = ['2023optional garage', '2024optional garage', '2025optional garage', '235koptional garage',\n",
    "                 '30sqmoptional garagefreeholde', 'availability garage', 'available garage',\n",
    "                 'bathroomsbalconybackyardoptional garageroof', 'buy garage', 'car garagepossibility',\n",
    "                 'conditionedoptional garage', 'freeholdoptional garage', 'garage additional', 'garage avaialble',\n",
    "                 'garage availabel', 'garage available', 'garage availablecontact', 'garage availableextras',\n",
    "                 'garage availableget', 'garage availableproject', 'garage availableref', 'garage avilable',\n",
    "                 'garage offer', 'garage offered', 'garage offering', 'garage opt', 'garage option', 'garage optional',\n",
    "                 'garage optionalref', 'garage possibility', 'garage possible', 'garage possibly', 'garage potential',\n",
    "                 'garage rent', 'garage rented', 'garage request', 'garage requested', 'garage315sqm asking',\n",
    "                 'garageasking price', 'garageavailable asking', 'garagepossibility gym38', 'house garageasking',\n",
    "                 'leasing garage', 'let garage', 'option garage', 'optional garage', 'optional garageavailable',\n",
    "                 'optional garagefinished', 'optional garagesref', 'purchase garage', 'rent garage', 'rental garage',\n",
    "                 'rented garage', 'streetoptional garage', 'terraceoptional garage']"
   ]
  },
  {
   "cell_type": "code",
   "execution_count": 41,
   "id": "82a494bc",
   "metadata": {
    "ExecuteTime": {
     "end_time": "2023-04-23T12:21:39.264023Z",
     "start_time": "2023-04-23T12:21:39.250041Z"
    }
   },
   "outputs": [],
   "source": [
    "# Words Denoting Options\n",
    "opt_words = ['2023optional', '2024optional', '2025optional', '235koptional', '30sqmoptional', 'additional', 'asking',\n",
    "             'avaialble', 'availabel', 'availability', 'available', 'availablecontact', 'availableextras', 'availableget',\n",
    "             'availableproject', 'availableref', 'avilable', 'bathroomsbalconybackyardoptional', 'buy', 'rental', 'rented',\n",
    "             'conditionedoptional', 'freeholdoptional', 'garageasking', 'garageavailable', 'garagepossibility', 'leasing',\n",
    "             'let', 'offer', 'offered', 'offering', 'opt', 'option', 'optional', 'optionalref', 'possibility', 'possible',\n",
    "             'possibly', 'potential', 'purchase', 'rent', 'request', 'requested', 'streetoptional', 'terraceoptional']"
   ]
  },
  {
   "cell_type": "code",
   "execution_count": 42,
   "id": "9cf2d349",
   "metadata": {
    "ExecuteTime": {
     "end_time": "2023-04-23T12:21:39.330245Z",
     "start_time": "2023-04-23T12:21:39.265108Z"
    }
   },
   "outputs": [
    {
     "data": {
      "text/plain": [
       "0    3235\n",
       "1    2150\n",
       "Name: Optional Garage, dtype: int64"
      ]
     },
     "execution_count": 42,
     "metadata": {},
     "output_type": "execute_result"
    }
   ],
   "source": [
    "# Get dummy for optional garage\n",
    "garage_opt_dummy = []\n",
    "for i in prop_market['Description - Clean']:\n",
    "    # Loop through features to check for 'garage' reference\n",
    "    if len(set(i).intersection(garage_words)) == 0:\n",
    "        garage_opt_dummy.append(0)\n",
    "    else:\n",
    "        # Check for reference of garage as option\n",
    "        if len(set(i).intersection(opt_words)) == 0:\n",
    "            garage_opt_dummy.append(0)\n",
    "        else:\n",
    "            garage_opt_dummy.append(1)\n",
    "\n",
    "# Assign Dummy to Dataframe\n",
    "prop_market['Optional Garage'] = garage_opt_dummy\n",
    "\n",
    "prop_market['Optional Garage'].value_counts()"
   ]
  },
  {
   "cell_type": "code",
   "execution_count": 43,
   "id": "e9763172",
   "metadata": {
    "ExecuteTime": {
     "end_time": "2023-04-23T12:21:39.354286Z",
     "start_time": "2023-04-23T12:21:39.330245Z"
    }
   },
   "outputs": [
    {
     "data": {
      "text/plain": [
       "0    4966\n",
       "1     419\n",
       "Name: Garage, dtype: int64"
      ]
     },
     "execution_count": 43,
     "metadata": {},
     "output_type": "execute_result"
    }
   ],
   "source": [
    "# Correct overlap between dummy for garage and optional garage\n",
    "prop_market['Garage'] = np.where((prop_market['Optional Garage'] == 1), 0, prop_market['Garage'])\n",
    "prop_market['Garage'].value_counts() #confirmed, correction worked"
   ]
  },
  {
   "cell_type": "markdown",
   "id": "5d3a1972",
   "metadata": {},
   "source": [
    "#### Airspace"
   ]
  },
  {
   "cell_type": "code",
   "execution_count": 44,
   "id": "7e86d8d7",
   "metadata": {
    "ExecuteTime": {
     "end_time": "2023-04-23T12:21:39.431006Z",
     "start_time": "2023-04-23T12:21:39.360547Z"
    }
   },
   "outputs": [
    {
     "data": {
      "text/plain": [
       "{'airspace',\n",
       " 'airspace1',\n",
       " 'airspaceasking',\n",
       " 'airspaceawesome',\n",
       " 'airspacebalconyfreeholde',\n",
       " 'airspacecirca',\n",
       " 'airspacefreeholde',\n",
       " 'airspaceget',\n",
       " 'airspaceideally',\n",
       " 'airspacelaundry',\n",
       " 'airspaceoptional',\n",
       " 'airspaceoutdoor',\n",
       " 'airspaceprice',\n",
       " 'airspaceref',\n",
       " 'airspaceroom',\n",
       " 'airspacespacious',\n",
       " 'airspacethis',\n",
       " 'airspacewellfreeholde',\n",
       " 'garageairspacefreeholde',\n",
       " 'liftairspace'}"
      ]
     },
     "execution_count": 44,
     "metadata": {},
     "output_type": "execute_result"
    }
   ],
   "source": [
    "# Find words relating to properties with airspace included\n",
    "find_words(prop_market['Description - Clean'], 'airspace', 'in')"
   ]
  },
  {
   "cell_type": "code",
   "execution_count": 45,
   "id": "46a014f5",
   "metadata": {
    "ExecuteTime": {
     "end_time": "2023-04-23T12:21:39.509864Z",
     "start_time": "2023-04-23T12:21:39.434003Z"
    }
   },
   "outputs": [
    {
     "data": {
      "text/plain": [
       "0    4662\n",
       "1     723\n",
       "Name: Airspace, dtype: int64"
      ]
     },
     "execution_count": 45,
     "metadata": {},
     "output_type": "execute_result"
    }
   ],
   "source": [
    "# Get Dummy for Properties with Airspace\n",
    "airspace_words = find_words(prop_market['Description - Clean'], 'airspace', 'in')\n",
    "prop_market['Airspace'] = get_feature(prop_market['Description - Clean'], airspace_words)\n",
    "\n",
    "prop_market['Airspace'].value_counts()"
   ]
  },
  {
   "cell_type": "markdown",
   "id": "57041ea3",
   "metadata": {},
   "source": [
    "#### Airspace Option"
   ]
  },
  {
   "cell_type": "markdown",
   "id": "f8e3170b",
   "metadata": {},
   "source": [
    "Words denoting options are assumed to have a common thread between referencing garages and airspace."
   ]
  },
  {
   "cell_type": "code",
   "execution_count": 46,
   "id": "d123a10b",
   "metadata": {
    "ExecuteTime": {
     "end_time": "2023-04-23T12:21:39.581912Z",
     "start_time": "2023-04-23T12:21:39.512854Z"
    }
   },
   "outputs": [
    {
     "data": {
      "text/plain": [
       "0    4960\n",
       "1     425\n",
       "Name: Optional Airspace, dtype: int64"
      ]
     },
     "execution_count": 46,
     "metadata": {},
     "output_type": "execute_result"
    }
   ],
   "source": [
    "# Get dummy for optional airspace\n",
    "airspace_opt_dummy = []\n",
    "for i in prop_market['Description - Clean']:\n",
    "    # Loop through features to check for 'garage' reference\n",
    "    if len(set(i).intersection(airspace_words)) == 0:\n",
    "        airspace_opt_dummy.append(0)\n",
    "    else:\n",
    "        # Check for reference of garage as option\n",
    "        if len(set(i).intersection(opt_words)) == 0:\n",
    "            airspace_opt_dummy.append(0)\n",
    "        else:\n",
    "            airspace_opt_dummy.append(1)\n",
    "\n",
    "# Assign Dummy to Dataframe\n",
    "prop_market['Optional Airspace'] = airspace_opt_dummy\n",
    "\n",
    "prop_market['Optional Airspace'].value_counts()"
   ]
  },
  {
   "cell_type": "code",
   "execution_count": 47,
   "id": "4f481299",
   "metadata": {
    "ExecuteTime": {
     "end_time": "2023-04-23T12:21:39.597739Z",
     "start_time": "2023-04-23T12:21:39.581912Z"
    }
   },
   "outputs": [
    {
     "data": {
      "text/plain": [
       "0    5087\n",
       "1     298\n",
       "Name: Airspace, dtype: int64"
      ]
     },
     "execution_count": 47,
     "metadata": {},
     "output_type": "execute_result"
    }
   ],
   "source": [
    "# Correct overlap between dummy for airspace and optional airspace\n",
    "prop_market['Airspace'] = np.where((prop_market['Optional Airspace'] == 1), 0, prop_market['Airspace'])\n",
    "prop_market['Airspace'].value_counts() #confirmed, correction worked"
   ]
  },
  {
   "cell_type": "markdown",
   "id": "32cfeadd",
   "metadata": {},
   "source": [
    "#### Furnished"
   ]
  },
  {
   "cell_type": "code",
   "execution_count": 48,
   "id": "7b816d7d",
   "metadata": {
    "ExecuteTime": {
     "end_time": "2023-04-23T12:21:39.672329Z",
     "start_time": "2023-04-23T12:21:39.600739Z"
    }
   },
   "outputs": [
    {
     "data": {
      "text/plain": [
       "{'100sqmfurnished',\n",
       " 'doorsunfurnishedtotal',\n",
       " 'furnished',\n",
       " 'furnished1',\n",
       " 'furnishedcall',\n",
       " 'furnishedcontact',\n",
       " 'furnishedoptional',\n",
       " 'furnishedref',\n",
       " 'furnishedsenglea',\n",
       " 'furnishedserved',\n",
       " 'refurnished',\n",
       " 'unfurnished'}"
      ]
     },
     "execution_count": 48,
     "metadata": {},
     "output_type": "execute_result"
    }
   ],
   "source": [
    "# Find words relating to furnished properties\n",
    "find_words(prop_market['Description - Clean'], 'furnished', 'in')"
   ]
  },
  {
   "cell_type": "code",
   "execution_count": 49,
   "id": "6c50c03d",
   "metadata": {
    "ExecuteTime": {
     "end_time": "2023-04-23T12:21:39.745809Z",
     "start_time": "2023-04-23T12:21:39.674323Z"
    }
   },
   "outputs": [
    {
     "data": {
      "text/plain": [
       "0    4326\n",
       "1    1059\n",
       "Name: Furnished, dtype: int64"
      ]
     },
     "execution_count": 49,
     "metadata": {},
     "output_type": "execute_result"
    }
   ],
   "source": [
    "# Get Dummy for Furnished Properties\n",
    "furnished_words = ['100sqmfurnished', 'doorsunfurnishedtotal', 'furnished', 'furnished1', 'furnishedcall',\n",
    "                   'furnishedcontact', 'furnishedoptional', 'furnishedref', 'furnishedsenglea', 'furnishedserved',\n",
    "                   'refurnished']\n",
    "prop_market['Furnished'] = get_feature(prop_market['Description - Clean'], furnished_words)\n",
    "\n",
    "prop_market['Furnished'].value_counts()"
   ]
  },
  {
   "cell_type": "markdown",
   "id": "a5548140",
   "metadata": {},
   "source": [
    "#### Finished"
   ]
  },
  {
   "cell_type": "code",
   "execution_count": 50,
   "id": "d173267c",
   "metadata": {
    "ExecuteTime": {
     "end_time": "2023-04-23T12:21:39.832213Z",
     "start_time": "2023-04-23T12:21:39.747783Z"
    }
   },
   "outputs": [
    {
     "data": {
      "text/plain": [
       "{'223kfinished',\n",
       " 'balconyfinished',\n",
       " 'finished',\n",
       " 'finishedoptional',\n",
       " 'garagefinished',\n",
       " 'infinished',\n",
       " 'terracefinished',\n",
       " 'viewsfinished'}"
      ]
     },
     "execution_count": 50,
     "metadata": {},
     "output_type": "execute_result"
    }
   ],
   "source": [
    "# Find words relating to finished properties\n",
    "find_words(prop_market['Description - Clean'], 'finished', 'in')"
   ]
  },
  {
   "cell_type": "code",
   "execution_count": 51,
   "id": "31e135f8",
   "metadata": {
    "ExecuteTime": {
     "end_time": "2023-04-23T12:21:39.944827Z",
     "start_time": "2023-04-23T12:21:39.834207Z"
    }
   },
   "outputs": [
    {
     "data": {
      "text/plain": [
       "0    2833\n",
       "1    2552\n",
       "Name: Finished, dtype: int64"
      ]
     },
     "execution_count": 51,
     "metadata": {},
     "output_type": "execute_result"
    }
   ],
   "source": [
    "# Get Dummy for Finished Properties\n",
    "finished_words = find_words(prop_market['Description - Clean'], 'finished', 'in')\n",
    "prop_market['Finished'] = get_feature(prop_market['Description - Clean'], finished_words)\n",
    "\n",
    "prop_market['Finished'].value_counts()"
   ]
  },
  {
   "cell_type": "code",
   "execution_count": 52,
   "id": "7cf63ba6",
   "metadata": {
    "ExecuteTime": {
     "end_time": "2023-04-23T12:21:39.967259Z",
     "start_time": "2023-04-23T12:21:39.948029Z"
    }
   },
   "outputs": [
    {
     "data": {
      "text/plain": [
       "0    3104\n",
       "1    2281\n",
       "Name: Finished, dtype: int64"
      ]
     },
     "execution_count": 52,
     "metadata": {},
     "output_type": "execute_result"
    }
   ],
   "source": [
    "# Correct for crossovers between furnished and finished properties\n",
    "prop_market['Finished'] = np.where((prop_market['Furnished'] == 1), 0, prop_market['Finished'])\n",
    "prop_market['Finished'].value_counts() #confirmed, correction worked"
   ]
  },
  {
   "cell_type": "markdown",
   "id": "aeadd611",
   "metadata": {},
   "source": [
    "<b>NOTE:</b> 3,340 properties are either furnished or finished, the remaining properties are assumed to be sold as shell. Dummy not created for shell properties given that 1 of the referenced features would have to be dropped anyway when modelling to avoid the dummy variable trap."
   ]
  },
  {
   "cell_type": "markdown",
   "id": "deaa739a",
   "metadata": {},
   "source": [
    "## Save Final Dataframe"
   ]
  },
  {
   "cell_type": "code",
   "execution_count": 53,
   "id": "c1e3ef94",
   "metadata": {
    "ExecuteTime": {
     "end_time": "2023-04-23T12:21:39.989534Z",
     "start_time": "2023-04-23T12:21:39.967864Z"
    }
   },
   "outputs": [],
   "source": [
    "# Remove Cleaned Text Column\n",
    "prop_market = prop_market.drop(['Description - Clean'], axis=1)"
   ]
  },
  {
   "cell_type": "code",
   "execution_count": 54,
   "id": "adcc95d7",
   "metadata": {
    "ExecuteTime": {
     "end_time": "2023-04-23T12:21:40.031491Z",
     "start_time": "2023-04-23T12:21:39.993754Z"
    }
   },
   "outputs": [
    {
     "name": "stdout",
     "output_type": "stream",
     "text": [
      "Dataframe Size : (5385, 21)\n"
     ]
    },
    {
     "data": {
      "text/html": [
       "<div>\n",
       "<style scoped>\n",
       "    .dataframe tbody tr th:only-of-type {\n",
       "        vertical-align: middle;\n",
       "    }\n",
       "\n",
       "    .dataframe tbody tr th {\n",
       "        vertical-align: top;\n",
       "    }\n",
       "\n",
       "    .dataframe thead th {\n",
       "        text-align: right;\n",
       "    }\n",
       "</style>\n",
       "<table border=\"1\" class=\"dataframe\">\n",
       "  <thead>\n",
       "    <tr style=\"text-align: right;\">\n",
       "      <th></th>\n",
       "      <th>Links</th>\n",
       "      <th>Locality</th>\n",
       "      <th>Price</th>\n",
       "      <th>Beds</th>\n",
       "      <th>Property Type</th>\n",
       "      <th>Baths</th>\n",
       "      <th>Description</th>\n",
       "      <th>Garden</th>\n",
       "      <th>Yard</th>\n",
       "      <th>Terrace</th>\n",
       "      <th>...</th>\n",
       "      <th>Pool</th>\n",
       "      <th>Roof Access</th>\n",
       "      <th>Seafront</th>\n",
       "      <th>Views</th>\n",
       "      <th>Garage</th>\n",
       "      <th>Optional Garage</th>\n",
       "      <th>Airspace</th>\n",
       "      <th>Optional Airspace</th>\n",
       "      <th>Furnished</th>\n",
       "      <th>Finished</th>\n",
       "    </tr>\n",
       "  </thead>\n",
       "  <tbody>\n",
       "    <tr>\n",
       "      <th>0</th>\n",
       "      <td>https://www.propertymarket.com.mt/view/2-bedro...</td>\n",
       "      <td>Attard</td>\n",
       "      <td>349000</td>\n",
       "      <td>2</td>\n",
       "      <td>Town House</td>\n",
       "      <td>2</td>\n",
       "      <td>BIRKIRKARA – Located in a UCA area, yet in a q...</td>\n",
       "      <td>0</td>\n",
       "      <td>0</td>\n",
       "      <td>1</td>\n",
       "      <td>...</td>\n",
       "      <td>0</td>\n",
       "      <td>1</td>\n",
       "      <td>0</td>\n",
       "      <td>0</td>\n",
       "      <td>0</td>\n",
       "      <td>0</td>\n",
       "      <td>1</td>\n",
       "      <td>0</td>\n",
       "      <td>1</td>\n",
       "      <td>0</td>\n",
       "    </tr>\n",
       "    <tr>\n",
       "      <th>1</th>\n",
       "      <td>https://www.propertymarket.com.mt/view/2-bedro...</td>\n",
       "      <td>Marsascala</td>\n",
       "      <td>300000</td>\n",
       "      <td>2</td>\n",
       "      <td>Apartment</td>\n",
       "      <td>2</td>\n",
       "      <td>A 2 Bedroom second floor Apartment, with permi...</td>\n",
       "      <td>0</td>\n",
       "      <td>0</td>\n",
       "      <td>0</td>\n",
       "      <td>...</td>\n",
       "      <td>0</td>\n",
       "      <td>0</td>\n",
       "      <td>0</td>\n",
       "      <td>0</td>\n",
       "      <td>0</td>\n",
       "      <td>0</td>\n",
       "      <td>0</td>\n",
       "      <td>0</td>\n",
       "      <td>0</td>\n",
       "      <td>0</td>\n",
       "    </tr>\n",
       "    <tr>\n",
       "      <th>2</th>\n",
       "      <td>https://www.propertymarket.com.mt/view/2-bedro...</td>\n",
       "      <td>San Gwann</td>\n",
       "      <td>330000</td>\n",
       "      <td>2</td>\n",
       "      <td>Maisonette</td>\n",
       "      <td>2</td>\n",
       "      <td>Situated on the outskirts of San Gwann and few...</td>\n",
       "      <td>0</td>\n",
       "      <td>1</td>\n",
       "      <td>0</td>\n",
       "      <td>...</td>\n",
       "      <td>0</td>\n",
       "      <td>0</td>\n",
       "      <td>0</td>\n",
       "      <td>0</td>\n",
       "      <td>0</td>\n",
       "      <td>0</td>\n",
       "      <td>0</td>\n",
       "      <td>0</td>\n",
       "      <td>0</td>\n",
       "      <td>0</td>\n",
       "    </tr>\n",
       "    <tr>\n",
       "      <th>3</th>\n",
       "      <td>https://www.propertymarket.com.mt/view/3-bedro...</td>\n",
       "      <td>Balzan</td>\n",
       "      <td>425000</td>\n",
       "      <td>3</td>\n",
       "      <td>Apartment</td>\n",
       "      <td>2</td>\n",
       "      <td>A very well located modern three bedroom 180 S...</td>\n",
       "      <td>0</td>\n",
       "      <td>0</td>\n",
       "      <td>0</td>\n",
       "      <td>...</td>\n",
       "      <td>0</td>\n",
       "      <td>0</td>\n",
       "      <td>0</td>\n",
       "      <td>0</td>\n",
       "      <td>0</td>\n",
       "      <td>0</td>\n",
       "      <td>0</td>\n",
       "      <td>0</td>\n",
       "      <td>0</td>\n",
       "      <td>1</td>\n",
       "    </tr>\n",
       "    <tr>\n",
       "      <th>4</th>\n",
       "      <td>https://www.propertymarket.com.mt/view/2-bedro...</td>\n",
       "      <td>Zebbug</td>\n",
       "      <td>370000</td>\n",
       "      <td>2</td>\n",
       "      <td>Town House</td>\n",
       "      <td>2</td>\n",
       "      <td>A two bedroom townhouse just minutes walk away...</td>\n",
       "      <td>0</td>\n",
       "      <td>1</td>\n",
       "      <td>0</td>\n",
       "      <td>...</td>\n",
       "      <td>0</td>\n",
       "      <td>1</td>\n",
       "      <td>0</td>\n",
       "      <td>0</td>\n",
       "      <td>0</td>\n",
       "      <td>0</td>\n",
       "      <td>1</td>\n",
       "      <td>0</td>\n",
       "      <td>0</td>\n",
       "      <td>0</td>\n",
       "    </tr>\n",
       "  </tbody>\n",
       "</table>\n",
       "<p>5 rows × 21 columns</p>\n",
       "</div>"
      ],
      "text/plain": [
       "                                               Links    Locality   Price  \\\n",
       "0  https://www.propertymarket.com.mt/view/2-bedro...      Attard  349000   \n",
       "1  https://www.propertymarket.com.mt/view/2-bedro...  Marsascala  300000   \n",
       "2  https://www.propertymarket.com.mt/view/2-bedro...   San Gwann  330000   \n",
       "3  https://www.propertymarket.com.mt/view/3-bedro...      Balzan  425000   \n",
       "4  https://www.propertymarket.com.mt/view/2-bedro...      Zebbug  370000   \n",
       "\n",
       "   Beds Property Type  Baths  \\\n",
       "0     2    Town House      2   \n",
       "1     2     Apartment      2   \n",
       "2     2    Maisonette      2   \n",
       "3     3     Apartment      2   \n",
       "4     2    Town House      2   \n",
       "\n",
       "                                         Description  Garden  Yard  Terrace  \\\n",
       "0  BIRKIRKARA – Located in a UCA area, yet in a q...       0     0        1   \n",
       "1  A 2 Bedroom second floor Apartment, with permi...       0     0        0   \n",
       "2  Situated on the outskirts of San Gwann and few...       0     1        0   \n",
       "3  A very well located modern three bedroom 180 S...       0     0        0   \n",
       "4  A two bedroom townhouse just minutes walk away...       0     1        0   \n",
       "\n",
       "   ...  Pool  Roof Access  Seafront  Views  Garage  Optional Garage  Airspace  \\\n",
       "0  ...     0            1         0      0       0                0         1   \n",
       "1  ...     0            0         0      0       0                0         0   \n",
       "2  ...     0            0         0      0       0                0         0   \n",
       "3  ...     0            0         0      0       0                0         0   \n",
       "4  ...     0            1         0      0       0                0         1   \n",
       "\n",
       "   Optional Airspace  Furnished  Finished  \n",
       "0                  0          1         0  \n",
       "1                  0          0         0  \n",
       "2                  0          0         0  \n",
       "3                  0          0         1  \n",
       "4                  0          0         0  \n",
       "\n",
       "[5 rows x 21 columns]"
      ]
     },
     "execution_count": 54,
     "metadata": {},
     "output_type": "execute_result"
    }
   ],
   "source": [
    "print('Dataframe Size :', prop_market.shape)\n",
    "prop_market.head()"
   ]
  },
  {
   "cell_type": "code",
   "execution_count": 55,
   "id": "a70d6694",
   "metadata": {
    "ExecuteTime": {
     "end_time": "2023-04-23T12:23:11.937010Z",
     "start_time": "2023-04-23T12:23:11.760382Z"
    }
   },
   "outputs": [],
   "source": [
    "# Save Data\n",
    "prop_market.to_csv('prop_market.csv', index=False)"
   ]
  },
  {
   "cell_type": "code",
   "execution_count": null,
   "id": "858b08a2",
   "metadata": {},
   "outputs": [],
   "source": []
  }
 ],
 "metadata": {
  "kernelspec": {
   "display_name": "Python 3 (ipykernel)",
   "language": "python",
   "name": "python3"
  },
  "language_info": {
   "codemirror_mode": {
    "name": "ipython",
    "version": 3
   },
   "file_extension": ".py",
   "mimetype": "text/x-python",
   "name": "python",
   "nbconvert_exporter": "python",
   "pygments_lexer": "ipython3",
   "version": "3.9.12"
  }
 },
 "nbformat": 4,
 "nbformat_minor": 5
}
